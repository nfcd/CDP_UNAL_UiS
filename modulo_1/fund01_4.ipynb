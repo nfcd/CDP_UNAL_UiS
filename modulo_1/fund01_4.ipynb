{
 "cells": [
  {
   "cell_type": "markdown",
   "id": "c0567553-43b6-4b28-a211-81091d9a2aa4",
   "metadata": {},
   "source": [
    "# Fundamentos 1: Introducción\n",
    "\n",
    "Este módulo introduce Python, variables sencillas cómo strings, números, y booleanos, y algunas operaciones con estas variables.\n",
    "\n",
    "## Mi primer programa de Python\n",
    "\n",
    "El primer programa que escribiremos en Python es el clásico `Hola Mundo!`\n",
    "\n",
    "Al usar Jupyter Notebooks (Google Colab o similares), simplemente se puede correr el código en una celda código como la de abajo, y ejecutarlo. También se puede crear un `script`, por ejemplo un archivo de texto no formateado que podemos llamar `hola.py`, con las siguientes linea:"
   ]
  },
  {
   "cell_type": "code",
   "execution_count": 1,
   "id": "2f72871b-36c0-4227-8a1b-f4f9c4ad00a6",
   "metadata": {},
   "outputs": [
    {
     "name": "stdout",
     "output_type": "stream",
     "text": [
      "Hola Mundo!\n"
     ]
    }
   ],
   "source": [
    "print(\"Hola Mundo!\")"
   ]
  },
  {
   "cell_type": "markdown",
   "id": "bf29f205-4b6e-4f45-a3c0-d372a11315ab",
   "metadata": {},
   "source": [
    "Al ejecutar la celda, el resultado despliega en la pantalla el texto `Hola Mundo!`. Si en cambio usa un script `hola.py`, puede ejecutarlo en una ventana de terminal, en el mismo directorio donde el script está, y usando el comando `python hola.py`.\n",
    "\n",
    "En la linea de código, `print` es una función de Python que despliega el texto dentro del paréntesis. Observe cómo el texto se encuentra entre comillas. Las comillas pueden ser sencillas o dobles. Nosotros utilizaremos comillas dobles.\n",
    "\n",
    "## Variables str\n",
    "\n",
    "Esta es una segunda versión del programa que da el mismo resultado:"
   ]
  },
  {
   "cell_type": "code",
   "execution_count": 2,
   "id": "0e113e4d-fe1a-48af-9fd4-a443d2a1cd3b",
   "metadata": {},
   "outputs": [
    {
     "name": "stdout",
     "output_type": "stream",
     "text": [
      "Hola Mundo!\n"
     ]
    }
   ],
   "source": [
    "# mi primer programa de Python\n",
    "# declara y despliega una variable de tipo str\n",
    "\n",
    "a = \"Hola Mundo!\" # declare variable a\n",
    "print(a) # despliegue variable a"
   ]
  },
  {
   "cell_type": "markdown",
   "id": "96f397b7-7763-4c90-af43-02cf6ea78bd5",
   "metadata": {},
   "source": [
    "### Observaciones\n",
    "\n",
    "Este código tiene las siguientes características:\n",
    "- El resultado es idéntico a la versión anterior.\n",
    "- Las dos primeras líneas comienzan con el símbolo #\n",
    "- Creamos una variable `a` de tipo `str` (string)\n",
    "- Hay una linea que se encuentra vacía. \n",
    "\n",
    "### Explicación\n",
    "Las dos primeras lineas del código representan comentarios. Cualquier texto después de un símbolo # es un comentario y Python no lo tiene en cuenta. Al terminar la linea termina el comentario. También es posible hacer comentarios dentro de una misma línea, cómo en las dos últimas líneas del código.\n",
    "\n",
    "La cuarta linea es una linea en blanco. Python no tiene en cuenta estas lineas, y pueden haber tantas lineas en blanco como uno quiera. El uso de lineas en blanco hace el código mas fácil de leer.\n",
    "\n",
    "La siguientes dos líneas sí son interpretadas por el programa. En la primera definimos una variable `a` de tipo `str`, la cual representa un conjunto de caracteres. En la segunda el comando `print` despliega la variable `a`. \n",
    "\n",
    "Para saber el tipo de la variable `a` podemos usar el comando `type`:"
   ]
  },
  {
   "cell_type": "code",
   "execution_count": 3,
   "id": "27b89694-7c2a-4886-92ea-6be87fbd0711",
   "metadata": {},
   "outputs": [
    {
     "name": "stdout",
     "output_type": "stream",
     "text": [
      "<class 'str'>\n"
     ]
    }
   ],
   "source": [
    "print(type(a)) # despliegue el tipo de la variable a"
   ]
  },
  {
   "cell_type": "markdown",
   "id": "6a5391fb",
   "metadata": {},
   "source": [
    "`a` es una variable, pero también es una clase (class) de tipo `str`. Las clases son un concepto fundamental de Python y de los lenguajes de programación orientados a objetos. De forma sencilla, `a` es un objeto de la clase `str` que tiene métodos de esa clase. Por ejemplo para escribir `a` en mayúsculas, podemos utilizar el método de la clase `str` `upper()`: "
   ]
  },
  {
   "cell_type": "code",
   "execution_count": 4,
   "id": "eb46dd78",
   "metadata": {},
   "outputs": [
    {
     "name": "stdout",
     "output_type": "stream",
     "text": [
      "HOLA MUNDO!\n"
     ]
    }
   ],
   "source": [
    "print(a.upper()) # despliegue la variable a en mayúsculas"
   ]
  },
  {
   "cell_type": "markdown",
   "id": "589ffa18",
   "metadata": {},
   "source": [
    "Todas las variables en Python son objetos, y podemos examinar fácilmente sus métodos. En la celda de abajo, localize el cursor después de `a.`, y presione la tecla `Tab` para ver una lista de los métodos de la variable `a`. Presione `Esc` para salir de la lista:"
   ]
  },
  {
   "cell_type": "code",
   "execution_count": null,
   "id": "d42b7e42",
   "metadata": {},
   "outputs": [],
   "source": [
    "a."
   ]
  },
  {
   "cell_type": "markdown",
   "id": "e9b8dcf1-f0b4-443d-8fad-0f389a542dd6",
   "metadata": {},
   "source": [
    "No dude en utilizar este sistema para investigar los métodos de cualquier variable en Python.\n",
    "\n",
    "### str es una colección de caracteres \n",
    "\n",
    "La variable `a` de tipo `str` es una colección ordenada de caracteres. Podemos determinar los caracteres en alguna posición dentro de la variable, por ejemplo: "
   ]
  },
  {
   "cell_type": "code",
   "execution_count": 5,
   "id": "cad50b66-aba6-48db-b6ea-4ae39d12bd10",
   "metadata": {},
   "outputs": [
    {
     "name": "stdout",
     "output_type": "stream",
     "text": [
      "El primer caracter es H\n",
      "El sexto caracter es M\n",
      "El último caracter es !\n",
      "El penúltimo caracter es o\n"
     ]
    }
   ],
   "source": [
    "print(\"El primer caracter es\", a[0])  # despliegue el primer caracter de a\n",
    "print(\"El sexto caracter es\", a[5])   # despliegue el sexto caracter de a\n",
    "print(\"El último caracter es\", a[-1]) # despliegue el último caracter de a\n",
    "print(\"El penúltimo caracter es\", a[-2]) # despliegue el penúltimo caracter de a"
   ]
  },
  {
   "cell_type": "markdown",
   "id": "988c9a3c-a834-4cee-9608-d0f532b00b78",
   "metadata": {},
   "source": [
    "Tenga en cuenta que los índices de los caracteres en la variable `a` comienzan en cero. Esto es una característica de las colecciones en Python, tales como listas, tuples, diccionarios y arreglos. Es una característica también de lenguages de programación como C y C++. No es el caso de lenguajes de programación como Matlab u Fortran. Por lo tanto uno debe tener cuidado con los índices al transferir código entre Python y Matlab o Fortran.\n",
    "\n",
    "Así, el primer elemento de la serie de caracteres en `a` tiene el índice `0`, y corresponde a la letra `H`. El sexto elemento con indice `5` es la letra `M`. Para determinar el último caracter, podemos usar el índice `-1`, y desde allí podemos buscar caracteres en dirección reversa; por ejemplo, el penúltimo caracter tiene el índice `-2`.\n",
    "\n",
    "Note que en una variable `str` el espacio también representa un caracter, y el índice `i` de un elemento se define dentro de corchetes `[i]`.\n",
    "\n",
    "### Operaciones con variables de tipo str\n",
    "\n",
    "Un ejemplo de operaciones con variables de tipo `str` es la concatenación de variables. Curiosamente para concatenar variables de tipo `str`, Python usa el símbolo de suma `+`:"
   ]
  },
  {
   "cell_type": "code",
   "execution_count": 6,
   "id": "b4a88b7f-a38f-48d7-984f-d4c5b1c9a491",
   "metadata": {},
   "outputs": [
    {
     "name": "stdout",
     "output_type": "stream",
     "text": [
      "Hola mamá\n"
     ]
    }
   ],
   "source": [
    "a = \"Hola Mundo!\" # variable a de tipo str\n",
    "b = \"mamá\"        # variable b de tipo str\n",
    "c = a[0:5] + b # variable de tipo c = 5 primeros caracteres de a + b\n",
    "print(c) # antes de ejecutar el código, trate de adivinar el resultado"
   ]
  },
  {
   "cell_type": "markdown",
   "id": "9a345062-7924-4cd8-bf91-fc0d5c850cec",
   "metadata": {},
   "source": [
    "Si multiplicamos una variable `str` por tres, que en principio no tiene sentido, Python lo interpreta como la repetición de los caracteres tres veces:  "
   ]
  },
  {
   "cell_type": "code",
   "execution_count": 7,
   "id": "4bd2d7dc-88cb-4c87-965c-c064d9480971",
   "metadata": {},
   "outputs": [
    {
     "name": "stdout",
     "output_type": "stream",
     "text": [
      "hola hola hola \n"
     ]
    }
   ],
   "source": [
    "b = \"hola \" # variable b de tipo str\n",
    "c = b * 3 # c es b *  3\n",
    "print(c) # antes de ejecutar el código, trate de adivinar el resultado"
   ]
  },
  {
   "cell_type": "markdown",
   "id": "4543de98",
   "metadata": {},
   "source": [
    "Y para descubrir palíndromos, frases que se leen igual de izquierda a derecha que de derecha a izquierda, podemos desplegar los caracteres en sentido inverso: "
   ]
  },
  {
   "cell_type": "code",
   "execution_count": 8,
   "id": "0bb45d0b",
   "metadata": {},
   "outputs": [
    {
     "name": "stdout",
     "output_type": "stream",
     "text": [
      "osomreh átse aíd lE\n",
      "yoh agoy ogah oY\n"
     ]
    }
   ],
   "source": [
    "a = \"El día está hermoso\" # variable a de tipo str (una frase)\n",
    "b = \"Yo hago yoga hoy\" # variable b de tipo str (una frase)\n",
    "\n",
    "print(a[::-1]) # imprima cada caracter de a pero en sentido inverso\n",
    "print(b[::-1]) # imprima cada caracter de b pero en sentido inverso"
   ]
  },
  {
   "cell_type": "markdown",
   "id": "103a781a-1e9e-4333-9a18-99af949a1ba7",
   "metadata": {},
   "source": [
    "## Números y operaciones matemáticas\n",
    "\n",
    "En esta sección veremos los tipos de números en Python, y utilizaremos Python como una calculadora:\n",
    "\n",
    "### Números enteros (variable int)\n",
    "\n",
    "El siguiente codigo ilustra las operaciones básicas suma (`+`), resta (`-`), multiplicación (`*`), y división (`/`) sobre números enteros:"
   ]
  },
  {
   "cell_type": "code",
   "execution_count": 9,
   "id": "b9216364-d81c-4423-bd2c-da9ec1b5bcf0",
   "metadata": {},
   "outputs": [
    {
     "name": "stdout",
     "output_type": "stream",
     "text": [
      "Tipo de a = <class 'int'>, tipo de b = <class 'int'>\n",
      "3 + 2 = 5. Tipo del resultado = <class 'int'>\n",
      "3 - 2 = 1. Tipo del resultado = <class 'int'>\n",
      "3 * 2 = 6. Tipo del resultado = <class 'int'>\n",
      "3 / 2 = 1.5. Tipo del resultado = <class 'float'>\n"
     ]
    }
   ],
   "source": [
    "a = 3 # variable a \n",
    "b = 2 # variable b \n",
    "\n",
    "c = a + b # a + b\n",
    "d = a - b # a - b\n",
    "e = a * b # a * b\n",
    "f = a / b # a / b\n",
    "\n",
    "print(f\"Tipo de a = {type(a)}, tipo de b = {type(b)}\") # despliegue tipo de a y b\n",
    "print(f\"{a} + {b} = {c}. Tipo del resultado = {type(c)}\") # despliegue a + b = c y el tipo de c\n",
    "print(f\"{a} - {b} = {d}. Tipo del resultado = {type(d)}\") # despliegue a + b = d y el tipo de d\n",
    "print(f\"{a} * {b} = {e}. Tipo del resultado = {type(e)}\") # despliegue a + b = e y el tipo de e\n",
    "print(f\"{a} / {b} = {f}. Tipo del resultado = {type(f)}\") # despliegue a + b = f y el tipo de f"
   ]
  },
  {
   "cell_type": "markdown",
   "id": "04dd0d15-856d-464e-a8fd-0613f97a599e",
   "metadata": {},
   "source": [
    "### Explicación\n",
    "\n",
    "El programa define al comienzo dos variables, `a` y `b`. Estas dos variables son números enteros. Las variable `c`, `d`, `e`, y `f` son la suma, resta, multiplicación, y división de `a` y `b`, respectivamente. \n",
    "\n",
    "Las líneas con `print` despliegan el resultado. Note que usamos strings formateadas o `f-str`. Estas comienzan con la letra `f`, seguida por el texto entre comillas. Dentro del texto podemos incluir las variables entre llaves `{}`. Esta es una forma más flexible de desplegar resultados. \n",
    "\n",
    "Note que `a` y `b` son variables de tipo `int` o números enteros. En cada operación, Python determina el tipo del resultado. Las variables `c`, `d`, y `e` que son el resultado de la suma, resta, o multiplicación de `a` y `b`, son de tipo `int`. Sin embargo la variable `f` que es el resultado de la división de `a` y `b`, es de tipo `float` o número decimal.\n",
    "\n",
    "### Otros operadores matemáticos\n",
    "\n",
    "Para elevar un número `a` a la potencia `b`, podemos utilizar el operador `**` de la siguiente manera `a ** b`. Finalmente, existen dos operadores para realizar división entera, y para calcular el residuo de la división. Estos son el operador `//` para división entera, y `%` para calcular el residuo de la división:"
   ]
  },
  {
   "cell_type": "code",
   "execution_count": 10,
   "id": "fe23705b",
   "metadata": {},
   "outputs": [
    {
     "name": "stdout",
     "output_type": "stream",
     "text": [
      "3 ** 2 = 9. Tipo del resultado = <class 'int'>\n",
      "3 // 2 = 1. Tipo del resultado = <class 'int'>\n",
      "3 % 2 = 1. Tipo del resultado = <class 'int'>\n"
     ]
    }
   ],
   "source": [
    "g = a ** b # a elevado a la b\n",
    "h = a // b # división entera de a por b\n",
    "i = a % b # residuo de la división entre a y b\n",
    "\n",
    "print(f\"{a} ** {b} = {g}. Tipo del resultado = {type(g)}\") # despliegue a ** b = g y el tipo de g\n",
    "print(f\"{a} // {b} = {h}. Tipo del resultado = {type(h)}\") # despliegue a // b = h y el tipo de h\n",
    "print(f\"{a} % {b} = {i}. Tipo del resultado = {type(i)}\") # despliegue a % b = i y el tipo de i"
   ]
  },
  {
   "cell_type": "markdown",
   "id": "85110b3a",
   "metadata": {},
   "source": [
    "### Números decimales (variable float)\n",
    "\n",
    "Realicemos las mismas operaciones con números decimales:"
   ]
  },
  {
   "cell_type": "code",
   "execution_count": 11,
   "id": "395a903f",
   "metadata": {},
   "outputs": [
    {
     "name": "stdout",
     "output_type": "stream",
     "text": [
      "Tipo de a = <class 'float'>, tipo de b = <class 'float'>\n",
      "3.5 + 2.5 = 6.0. Tipo del resultado = <class 'float'>\n",
      "3.5 - 2.5 = 1.0. Tipo del resultado = <class 'float'>\n",
      "3.5 * 2.5 = 8.75. Tipo del resultado = <class 'float'>\n",
      "3.5 / 2.5 = 1.4. Tipo del resultado = <class 'float'>\n",
      "3.5 ** 2.5 = 22.91765149399039. Tipo del resultado = <class 'float'>\n",
      "3.5 // 2.5 = 1.0. Tipo del resultado = <class 'float'>\n",
      "3.5 % 2.5 = 1.0. Tipo del resultado = <class 'float'>\n"
     ]
    }
   ],
   "source": [
    "a = 3.5 # variable a\n",
    "b = 2.5 # variable b\n",
    "\n",
    "c = a + b # a + b\n",
    "d = a - b # a - b\n",
    "e = a * b # a * b\n",
    "f = a / b # a / b\n",
    "g = a ** b # a elevado a la b\n",
    "h = a // b # división entera de a por b\n",
    "i = a % b # residuo de la división entre a y b\n",
    "\n",
    "print(f\"Tipo de a = {type(a)}, tipo de b = {type(b)}\") # despliegue tipo de a y b\n",
    "print(f\"{a} + {b} = {c}. Tipo del resultado = {type(c)}\") # despliegue a + b = c y el tipo de c\n",
    "print(f\"{a} - {b} = {d}. Tipo del resultado = {type(d)}\") # despliegue a + b = d y el tipo de d\n",
    "print(f\"{a} * {b} = {e}. Tipo del resultado = {type(e)}\") # despliegue a + b = e y el tipo de e\n",
    "print(f\"{a} / {b} = {f}. Tipo del resultado = {type(f)}\") # despliegue a + b = f y el tipo de f\n",
    "print(f\"{a} ** {b} = {g}. Tipo del resultado = {type(g)}\") # despliegue a ** b = g y el tipo de g\n",
    "print(f\"{a} // {b} = {h}. Tipo del resultado = {type(h)}\") # despliegue a // b = h y el tipo de h\n",
    "print(f\"{a} % {b} = {i}. Tipo del resultado = {type(i)}\") # despliegue a % b = i y el tipo de i"
   ]
  },
  {
   "cell_type": "markdown",
   "id": "74fe8ed8-4c0a-4f3d-8029-6520477c5396",
   "metadata": {},
   "source": [
    "### Ejercicio: Volumen de la Tierra\n",
    "\n",
    "Asumiendo que la Tierra es una esfera, determine el volumen total de nuestro planeta. El volumen $V$ de una esfera es: \n",
    "$$\n",
    "V = \\frac{4}{3}\\pi r^3\n",
    "$$\n",
    "donde $r$ es el radio de la Tierra (6371 km)."
   ]
  },
  {
   "cell_type": "code",
   "execution_count": 12,
   "id": "6f3393a4-1e31-4d8e-a6c5-9431829874a9",
   "metadata": {},
   "outputs": [
    {
     "name": "stdout",
     "output_type": "stream",
     "text": [
      "El volumen de la Tierra es 1083209449854.72 km^3\n"
     ]
    }
   ],
   "source": [
    "r  = 6371 # radio de la Tierra en kilometros\n",
    "\n",
    "pi = 3.1416 # número pi\n",
    "\n",
    "V  = 4/3 * pi * r**3 # volumen de la Tierra en km^3\n",
    "\n",
    "print(f\"El volumen de la Tierra es {V:.2f} km^3\") # volumen con dos decimales"
   ]
  },
  {
   "cell_type": "markdown",
   "id": "2d0990e2",
   "metadata": {},
   "source": [
    "Escribamos el resultado usando notación científica:"
   ]
  },
  {
   "cell_type": "code",
   "execution_count": 13,
   "id": "d9a5b0c9",
   "metadata": {},
   "outputs": [
    {
     "name": "stdout",
     "output_type": "stream",
     "text": [
      "El volumen de la Tierra es 1.0832e+12 km^3\n"
     ]
    }
   ],
   "source": [
    " print(f\"El volumen de la Tierra es {V:.4e} km^3\") # volumen en notación científica con 4 decimales"
   ]
  },
  {
   "cell_type": "markdown",
   "id": "856372a5",
   "metadata": {},
   "source": [
    "### Operadores matemáticos más avanzados\n",
    "\n",
    "Para ejecutar operaciones más avanzadas, por ejemplo senos y cosenos, debemos cargar una librería que contiene esos métodos. Es común cargar la librería `math`. Sin embargo, pensando en los módulos siguientes, vamos a utilizar la librería `numpy`. Esta librería además permite trabajar con arreglos, como veremos más adelante.\n",
    "\n",
    "Como un ejemplo, calculemos el seno de 30 grados:"
   ]
  },
  {
   "cell_type": "code",
   "execution_count": 14,
   "id": "c00ea12d",
   "metadata": {},
   "outputs": [
    {
     "name": "stdout",
     "output_type": "stream",
     "text": [
      "Seno de 30 grados es 0.50\n"
     ]
    }
   ],
   "source": [
    "import numpy as np # cargue la libreria numpy con el álias np\n",
    "\n",
    "grados = 30 # ángulo en grados\n",
    "pi = np.pi  # número pi, 3.1416...\n",
    "radianes = grados * pi/180 # ángulo en radianes\n",
    "seno = np.sin(radianes) # seno del ángulo\n",
    "print(f\"Seno de {grados} grados es {seno:.2f}\") # despliegue resultado, seno con 2 decimales"
   ]
  },
  {
   "cell_type": "markdown",
   "id": "48d94b54",
   "metadata": {},
   "source": [
    "### Explicación\n",
    "\n",
    "En la primera línea del código cargamos la librería `numpy` con el alias `np`. De esta forma podemos utilizar métodos de `numpy` de la forma `np.metodo()`.\n",
    "\n",
    "En la segunda línea, definimos el ángulo en grados. En la tercera linea extraemos la constante `pi` de `numpy`. Este es el número pi (3.1416...). En la cuarta línea, convertimos el ángulo de grados a radianes. La quinta línea calcula el seno del ángulo, y la última linea despliega el resultado. Note como en la última linea, desplegamos la variable `seno` con 2 decimales `seno:.2f`.\n",
    "\n",
    "Es importante recordar que las computadoras no entienden grados sino radianes. Así, antes de calcular el seno de un ángulo en grados, debemos convertir el ángulo a radianes. No sobra decir, que las funciones inversas como arcoseno devuelven el ángulo en radianes:"
   ]
  },
  {
   "cell_type": "code",
   "execution_count": 15,
   "id": "b990333a",
   "metadata": {},
   "outputs": [
    {
     "name": "stdout",
     "output_type": "stream",
     "text": [
      "Arcoseno de 0.50 es 0.5236 radianes o 30.00 grados\n"
     ]
    }
   ],
   "source": [
    "radianes = np.arcsin(seno) # ángulo en radianes\n",
    "grados = radianes * 180/pi # ángulo en grados\n",
    "print(f\"Arcoseno de {seno:.2f} es {radianes:.4f} radianes o {grados:.2f} grados\") # despliegue el resultado"
   ]
  },
  {
   "cell_type": "markdown",
   "id": "1918a49c",
   "metadata": {},
   "source": [
    "`numpy` ofrece dos métodos para convertir fácilmente grados a radianes `deg2rad()` y viceversa `rad2deg()`:"
   ]
  },
  {
   "cell_type": "code",
   "execution_count": 16,
   "id": "d57daeda",
   "metadata": {},
   "outputs": [
    {
     "name": "stdout",
     "output_type": "stream",
     "text": [
      "30.00 grados es 0.5236 radianes\n",
      "0.5236 radianes es 30.00 grados\n"
     ]
    }
   ],
   "source": [
    "print(f\"{grados:.2f} grados es {np.deg2rad(grados):.4f} radianes\")\n",
    "print(f\"{radianes:.4f} radianes es {np.rad2deg(radianes):.2f} grados\")"
   ]
  },
  {
   "cell_type": "markdown",
   "id": "68f36c25-3f87-44ae-b318-c606a789d35c",
   "metadata": {},
   "source": [
    "### Números complejos (variable complex)\n",
    "\n",
    "El uso de números complejos no es común para muchos geólogos, pero es útil para el procesamiento de datos y series de tiempo.\n",
    "\n",
    "En algunos lenguajes, el uso de números complejos no es sencillo. En Fortran por ejemplo, un número complejo es estandar, mientras que en C/C++ no lo es y se requiere cargar librerías para poder trabajar con ellos. \n",
    "\n",
    "En Python se puede definir un número complejo usando\n",
    "\n",
    "```\n",
    "z = 2+3j\n",
    "```\n",
    "o también \n",
    "```\n",
    "z = complex(2,3)\n",
    "```\n",
    "\n",
    "donde `2` es la parte real del número, y `3`es la parte imaginaria. Para obtener la parte real del número podemos utilizar su atributo `real`, y para obtener la parte imaginaria podemos utilizar su atributo `imag`. Por ejemplo:"
   ]
  },
  {
   "cell_type": "code",
   "execution_count": 17,
   "id": "c519098b-0384-491a-9642-30dfaab77bfe",
   "metadata": {},
   "outputs": [
    {
     "name": "stdout",
     "output_type": "stream",
     "text": [
      "1 es de tipo <class 'int'>, con componentes real = 1 e imaginario = 0\n",
      "2j es de tipo <class 'complex'>, con componentes real = 0.0 e imaginario = 2.0\n",
      "(3+4j) es de tipo <class 'complex'>, con componentes real = 3.0 e imaginario = 4.0\n",
      "(5+6j) es de tipo <class 'complex'>, con componentes real = 5.0 e imaginario = 6.0\n"
     ]
    }
   ],
   "source": [
    "x = 1\n",
    "z0 = 2j\n",
    "z1 = 3  + 4j\n",
    "z2 = complex(5,6)\n",
    "\n",
    "print(f\"{x} es de tipo {type(x)}, con componentes real = {x.real} e imaginario = {x.imag}\")\n",
    "print(f\"{z0} es de tipo {type(z0)}, con componentes real = {z0.real} e imaginario = {z0.imag}\")\n",
    "print(f\"{z1} es de tipo {type(z1)}, con componentes real = {z1.real} e imaginario = {z1.imag}\")\n",
    "print(f\"{z2} es de tipo {type(z2)}, con componentes real = {z2.real} e imaginario = {z2.imag}\")"
   ]
  },
  {
   "cell_type": "markdown",
   "id": "c25f8b1d-bec1-400c-95e5-f4e103dec53c",
   "metadata": {},
   "source": [
    "### Ejercicio - División de números complejos\n",
    "\n",
    "Efectue la siguiente división en Python:\n",
    "\n",
    "$$\n",
    "\\frac{3i}{4-3i} = -\\frac{9}{25}+\\frac{12}{25}i \\approx -0.360+0.480i\n",
    "$$"
   ]
  },
  {
   "cell_type": "code",
   "execution_count": 18,
   "id": "4755c4f5-d033-4248-86c4-c8d2fc787c0d",
   "metadata": {
    "scrolled": true
   },
   "outputs": [
    {
     "name": "stdout",
     "output_type": "stream",
     "text": [
      "El resultado de la división es -0.360 + 0.480i\n"
     ]
    }
   ],
   "source": [
    "z0 = 3j # número complejo con componente imaginario\n",
    "z1 = complex(4, -3) # número complejo con componentes real e imaginario\n",
    "z2 = z0/z1 # división de z0 y z1\n",
    "\n",
    "print(f\"El resultado de la división es {z2.real:.3f} + {z2.imag:.3f}i\") # despliegue el resultado de la división"
   ]
  },
  {
   "cell_type": "markdown",
   "id": "0d1312b0-8c9b-4abf-ae55-b067bfad59fc",
   "metadata": {},
   "source": [
    "## Variables bool\n",
    "\n",
    "En programación en ocasiones necesitamos saber si una expresión es `Verdadera` o `Falsa`. En Python, podemos definir una variable cuyo resultado sólo tiene dos posibles resultados, `True` o `False`, esta variable es de tipo boleano o `bool`:"
   ]
  },
  {
   "cell_type": "code",
   "execution_count": 19,
   "id": "4e60c9be-d86b-4f4c-b597-3e1e1ca6d92b",
   "metadata": {},
   "outputs": [
    {
     "name": "stdout",
     "output_type": "stream",
     "text": [
      "10 > 9 = True. Tipo del resultado = <class 'bool'>\n",
      "10 == 9 = False. Tipo del resultado = <class 'bool'>\n",
      "10 < 9 = False. Tipo del resultado = <class 'bool'>\n",
      "10 != 9 = True. Tipo del resultado = <class 'bool'>\n"
     ]
    }
   ],
   "source": [
    "a = 10 # variable a\n",
    "b = 9 # variable b\n",
    "\n",
    "c = (a > b)  # variable c\n",
    "d = (a == b) # variable d\n",
    "e = (a < b)  # variable e\n",
    "f = (a != b)  # variable f\n",
    "\n",
    "print(f\"{a} > {b} = {c}. Tipo del resultado = {type(c)}\") # despliegue c y su tipo\n",
    "print(f\"{a} == {b} = {d}. Tipo del resultado = {type(d)}\") # despliegue d y su tipo\n",
    "print(f\"{a} < {b} = {e}. Tipo del resultado = {type(e)}\") # despliegue e y su tipo\n",
    "print(f\"{a} != {b} = {f}. Tipo del resultado = {type(f)}\") # despliegue f y su tipo"
   ]
  },
  {
   "cell_type": "markdown",
   "id": "6c5b5cf9-1fbb-453e-bd36-d4dead6a3611",
   "metadata": {},
   "source": [
    "Los operadores `>` (mayor que), `==`(igual que), `<` (menor que), y `!=` (no igual que) se llaman operadores de comparación. Los otros operadores de comparación son `>=` (mayor o igual que), y `<=` (menor o igual que).\n",
    "\n",
    "## Resumen\n",
    "\n",
    "### Tipos de Variables\n",
    "\n",
    "- `str`, string o colección de caracteres.\n",
    "- `int`, números enteros.\n",
    "- `float`, números decimales. \n",
    "- `complex`, variable compleja, con una componente real y otra imaginaria.\n",
    "- `bool`, variable booleana, dos posibles resultados, verdadero (True) o falso (False).\n",
    "\n",
    "### Operadores matemáticos\n",
    "- Sencillos y parte de Python: `+`, `-`, `*`, `/`, `//`, `%`\n",
    "- Mas complicados y en otraslibrerías como `math` o `numpy`: senos, cosenos, etc.\n",
    "- Operadores de comparación:`>`, `>=`, `<`, `<=`, `==`, `!=`"
   ]
  }
 ],
 "metadata": {
  "kernelspec": {
   "display_name": "Python 3 (ipykernel)",
   "language": "python",
   "name": "python3"
  },
  "language_info": {
   "codemirror_mode": {
    "name": "ipython",
    "version": 3
   },
   "file_extension": ".py",
   "mimetype": "text/x-python",
   "name": "python",
   "nbconvert_exporter": "python",
   "pygments_lexer": "ipython3",
   "version": "3.11.5"
  }
 },
 "nbformat": 4,
 "nbformat_minor": 5
}
