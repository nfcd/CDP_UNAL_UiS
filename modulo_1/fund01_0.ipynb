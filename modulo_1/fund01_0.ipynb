{
 "cells": [
  {
   "cell_type": "markdown",
   "id": "c0567553-43b6-4b28-a211-81091d9a2aa4",
   "metadata": {},
   "source": [
    "# Fundamentos de Python 1\n",
    "En este lab, vamos a concentrarnos en **operaciones matemáticas** sencillas en Python.\n",
    "Para entender dichas operaciones, es necesario también entender algunos **tipos de variables** y las operaciones que se pueden llevar a cabo con cada una de ellas.  \n"
   ]
  },
  {
   "cell_type": "markdown",
   "id": "2f54bd93-8f01-4bae-a2d6-6cafc882a6ad",
   "metadata": {},
   "source": [
    "## Mi primer programa de Python\n",
    "\n",
    "El primer programa que escribiremos en Python es, el clásico, `hola mundo!`.\n",
    "\n",
    "Al usar Jupyter Notebooks (Google Colab o similares), simplemente se puede correr el código en la celda de abajo, y ejecutarlo. También se puede crear un `script`, por ejemplo un archivo de texto plano que podemos llamar `hola.py`, con las siguientes lineas:"
   ]
  },
  {
   "cell_type": "code",
   "execution_count": 1,
   "id": "2f72871b-36c0-4227-8a1b-f4f9c4ad00a6",
   "metadata": {},
   "outputs": [
    {
     "name": "stdout",
     "output_type": "stream",
     "text": [
      "Hola Mundo!\n"
     ]
    }
   ],
   "source": [
    "print(\"Hola Mundo!\")"
   ]
  },
  {
   "cell_type": "markdown",
   "id": "bf29f205-4b6e-4f45-a3c0-d372a11315ab",
   "metadata": {},
   "source": [
    "Al ejecutar el programa, el resultado despliega en la pantalla el texto `Hola Mundo!`. \n",
    "\n",
    "La linea de código tiene el comando `print`, que es una función de Python la cual imprime el texto que está dentro del paréntesis. Mire cómo el texto que se despliiega se encuentra entre comillas (pueden ser comillas sencillas o dobles). \n",
    "\n"
   ]
  },
  {
   "cell_type": "markdown",
   "id": "129e72bb-4e1b-45a9-a30a-393906854256",
   "metadata": {},
   "source": [
    "## Variables tipo `string`\n",
    "\n"
   ]
  },
  {
   "cell_type": "markdown",
   "id": "c58d8ba2-3d6e-42ef-9c19-e1de383ce0e0",
   "metadata": {},
   "source": [
    "Una segunda versión de este programa, con el mismo resultado se muestra a continuación:\n"
   ]
  },
  {
   "cell_type": "code",
   "execution_count": 2,
   "id": "0e113e4d-fe1a-48af-9fd4-a443d2a1cd3b",
   "metadata": {},
   "outputs": [
    {
     "name": "stdout",
     "output_type": "stream",
     "text": [
      "Hola Mundo!\n"
     ]
    }
   ],
   "source": [
    "# hola1.py\n",
    "# Mi primer programa de Python\n",
    "\n",
    "a = \"Hola Mundo!\"\n",
    "print(a)"
   ]
  },
  {
   "cell_type": "markdown",
   "id": "96f397b7-7763-4c90-af43-02cf6ea78bd5",
   "metadata": {},
   "source": [
    "### Observaciones\n",
    "\n",
    "El código `hola1.py` tiene varias características\n",
    "- El resultado es idéntico a la versión anterior.\n",
    "- Las dos primeras líneas comienzan con el símbolo #\n",
    "- Creamos una variable `a`\n",
    "- Hay una linea que se encuentra vacía. \n",
    "\n",
    "### Explicación\n",
    "Las primeras dos lineas del código representan comentarios. Cualquier texto después de un símbolo # es un comentario y Python no lo tiene en cuenta. Al terminar la linea termina el comentario. También es posible hacer comentarios dentro de una línea.\n",
    "\n",
    "La tercera linea es una linea en blanco. Python no tiene en cuenta estas\n",
    "lineas, y se puede poner tantas lineas en blanco como se quiera. El uso de lineas en blanco permite hacer el código mas fácil de leer, y permite escribir el código en bloques pequeños y separados.\n",
    "\n",
    "La siguientes dos líneas sí son interpretada por el programa. En la primera, definimos una variable `a`, que pasa a representar un conjunto de caracteres. En la segunda el comando `print` despliega la variable `a`. \n",
    "\n",
    "Este tipo de variables, que en Python se conocen como clases, representan conjuntos de caracteres son de tipo `string`.  \n"
   ]
  },
  {
   "cell_type": "code",
   "execution_count": 3,
   "id": "27b89694-7c2a-4886-92ea-6be87fbd0711",
   "metadata": {},
   "outputs": [
    {
     "name": "stdout",
     "output_type": "stream",
     "text": [
      "<class 'str'>\n"
     ]
    }
   ],
   "source": [
    "print(type(a))"
   ]
  },
  {
   "cell_type": "markdown",
   "id": "e9b8dcf1-f0b4-443d-8fad-0f389a542dd6",
   "metadata": {},
   "source": [
    "Podemos también determinar los caracteres en alguna posición dentro de la variable, por ejemplo "
   ]
  },
  {
   "cell_type": "code",
   "execution_count": 4,
   "id": "cad50b66-aba6-48db-b6ea-4ae39d12bd10",
   "metadata": {},
   "outputs": [
    {
     "name": "stdout",
     "output_type": "stream",
     "text": [
      "Hola Mundo!\n",
      "El primer caracter es H\n",
      "El sexto caracter es  M\n"
     ]
    }
   ],
   "source": [
    "print(a)\n",
    "print('El primer caracter es', a[0])\n",
    "print('El sexto caracter es ', a[5])"
   ]
  },
  {
   "cell_type": "markdown",
   "id": "988c9a3c-a834-4cee-9608-d0f532b00b78",
   "metadata": {},
   "source": [
    "Tenga en cuenta que la indexación (posición) en Python comienza en el cero. Esto quiere decir que el primer elemento de la serie de caracteres tiene el índice `0`, la letra `H`. El sexto elemento `a[5]` sería la letra `M`. Tenga en cuenta que el espacio también representa un caracter y que el índice de un elemento se define con paréntesis cuadrados `[i]`. "
   ]
  },
  {
   "cell_type": "markdown",
   "id": "d9174ac2-dd99-4141-9fd3-0f3ebc641b90",
   "metadata": {},
   "source": [
    "### Operaciones con strings\n",
    "\n",
    "Aunque hay muchas operaciones posibles con variables `str`, un ejemplo es concatenar. Curiosamente para concatenar `str`, Python usa la suma. "
   ]
  },
  {
   "cell_type": "code",
   "execution_count": 5,
   "id": "b4a88b7f-a38f-48d7-984f-d4c5b1c9a491",
   "metadata": {},
   "outputs": [
    {
     "name": "stdout",
     "output_type": "stream",
     "text": [
      "Hola mamá\n"
     ]
    }
   ],
   "source": [
    "a = \"Hola Mundo!\"\n",
    "b = \"mamá\"\n",
    "c = a[0:5] + b\n",
    "print(c)"
   ]
  },
  {
   "cell_type": "markdown",
   "id": "9a345062-7924-4cd8-bf91-fc0d5c850cec",
   "metadata": {},
   "source": [
    "Multiplicar una variable `str` por tres, que en principio no tiene sentido, Python lo interpreta como concatenar los caracteres tres veces.  "
   ]
  },
  {
   "cell_type": "code",
   "execution_count": 6,
   "id": "4bd2d7dc-88cb-4c87-965c-c064d9480971",
   "metadata": {},
   "outputs": [
    {
     "name": "stdout",
     "output_type": "stream",
     "text": [
      "holaholahola\n"
     ]
    }
   ],
   "source": [
    "b = 'hola'\n",
    "c = b*3\n",
    "print(c)"
   ]
  },
  {
   "cell_type": "markdown",
   "id": "b74d0caf-81b1-454f-a666-f0a3d9ac472c",
   "metadata": {},
   "source": [
    "## Variables `int` y `float`"
   ]
  },
  {
   "cell_type": "markdown",
   "id": "103a781a-1e9e-4333-9a18-99af949a1ba7",
   "metadata": {},
   "source": [
    "### Multiplicación de dos números enteros\n",
    "\n",
    "A continuación, queremos realizar operaciones matemáticas en Python,  algo común en la investigación científica. \n",
    "\n"
   ]
  },
  {
   "cell_type": "code",
   "execution_count": 7,
   "id": "b9216364-d81c-4423-bd2c-da9ec1b5bcf0",
   "metadata": {},
   "outputs": [
    {
     "name": "stdout",
     "output_type": "stream",
     "text": [
      "2 x 3  =  6\n"
     ]
    }
   ],
   "source": [
    "# multint.py\n",
    "# Código para multiplicar dos números enteros\n",
    "\n",
    "a = 2\n",
    "b = 3\n",
    "\n",
    "c = a*b\n",
    "\n",
    "print(a,\"x\",b,\" = \",c)\n"
   ]
  },
  {
   "cell_type": "markdown",
   "id": "04dd0d15-856d-464e-a8fd-0613f97a599e",
   "metadata": {},
   "source": [
    "### Explicación\n",
    "\n",
    "El programa usa tres variables, las letras `a`, `b` y `c`. Las variables pueden tener\n",
    "nombres largos, pero no pueden tener espacios. Si quiere unir palabras use `_`.\n",
    "El primer caracter de una variable debe ser una letra, el resto puede ser una\n",
    "combinación de letras, números y `_`. No se recomienda usar puntos o símbolos\n",
    "de menos (`-`), ya que esto significa resta para Python. El resultado del programa anterior da como resultado `6`, como es de esperarse. \n",
    "\n",
    "### Observaciones\n",
    "Python define de manera automática si un número es entero o real (float), aunque si el usuario así lo prefiere, puede definir la variable como entero:\n",
    "\n",
    "`a = int(2)`\n",
    "\n",
    "`b = int(3)`\n",
    "\n",
    "Cuando esto sucede, Python asume entonces que `c` será un número entero. \n",
    "\n"
   ]
  },
  {
   "cell_type": "code",
   "execution_count": 8,
   "id": "c5303c0d-5e6f-4b80-9bed-ade2c48ca055",
   "metadata": {},
   "outputs": [
    {
     "name": "stdout",
     "output_type": "stream",
     "text": [
      "<class 'int'>\n",
      "<class 'int'>\n",
      "<class 'int'>\n"
     ]
    }
   ],
   "source": [
    "print(type(a))\n",
    "print(type(b))\n",
    "print(type(c))"
   ]
  },
  {
   "cell_type": "markdown",
   "id": "749da378-ee9c-4de7-8c21-eb2ac14b28d7",
   "metadata": {},
   "source": [
    "Pero, ¿qué pasa si en vez de multiplicar, hacemos una división y el resultado no es un número entero?"
   ]
  },
  {
   "cell_type": "code",
   "execution_count": 9,
   "id": "aff3ec7e-401a-4124-96ee-57a60b60f2ab",
   "metadata": {},
   "outputs": [
    {
     "name": "stdout",
     "output_type": "stream",
     "text": [
      "2 / 3  =  0.6666666666666666\n",
      "\n",
      "a  <class 'int'>\n",
      "b  <class 'int'>\n",
      "c  <class 'float'>\n"
     ]
    }
   ],
   "source": [
    "a = 2\n",
    "b = 3\n",
    "c = 2/3\n",
    "print(a,\"/\",b,\" = \",c)\n",
    "\n",
    "print('')\n",
    "print('a ', type(a))\n",
    "print('b ', type(b))\n",
    "print('c ', type(c))"
   ]
  },
  {
   "cell_type": "markdown",
   "id": "26b73e64-4d17-4944-b3dc-7edaa06bc90c",
   "metadata": {},
   "source": [
    "Note acá que python automáticamente determina que la variable `c` no es un entero, y en cambio automáticamente lo define como una variable tipo `float`, es decir una variable **real**, un número que incluye números racionales e irracionales. \n",
    "\n",
    "El símbolo * indica multiplicación casi como en la mayoría de lenguajes de programación. Adición es +, resta es - y división es /. En Python, para elevar un número `a` a la `b` potencia, se escribe a**b, y las dos variables pueden ser enteros o reales."
   ]
  },
  {
   "cell_type": "markdown",
   "id": "74fe8ed8-4c0a-4f3d-8029-6520477c5396",
   "metadata": {},
   "source": [
    "### Ejercicio: Volumen de la Tierra\n",
    "\n",
    "Asumiendo que la Tierra es una esfera, determine el volumen total de nuestro planeta. El volumen $V$ de una esfera se calcula con \n",
    "$$\n",
    "V = \\frac{4}{3}\\pi r^3\n",
    "$$\n",
    "donde $r$ es el radio de la Tierra (6371 km)."
   ]
  },
  {
   "cell_type": "code",
   "execution_count": 15,
   "id": "6f3393a4-1e31-4d8e-a6c5-9431829874a9",
   "metadata": {},
   "outputs": [
    {
     "name": "stdout",
     "output_type": "stream",
     "text": [
      "Volumen de la Tierra es 1.083e+12 km3 \n"
     ]
    }
   ],
   "source": [
    "# Volumen de la Tierra\n",
    "\n",
    "import math\n",
    "\n",
    "r  = 6371\n",
    "pi = math.pi\n",
    "\n",
    "V  = 4/3 * pi * r**3\n",
    "\n",
    "print('Volumen de la Tierra es %4.3e km3 ' %(V))\n"
   ]
  },
  {
   "cell_type": "markdown",
   "id": "c6b11069-8b90-40df-928b-4bac69a24e68",
   "metadata": {},
   "source": [
    "### Observaciones\n",
    "- El número $\\pi$ no lo conoce Python. Debemos importar una librería o paquete de matemáticas `math`.\n",
    "- El comando `print` permite desplegar varias variables en un solo comando, e incluso darle un formato específico para desplegar números con notación científica.\n",
    "\n",
    "Python tiene una larga lista de librerías (conocidas como *modules*, o *packages*) para realizar operaciones de todo tipo. Para poder\n",
    "utilizarlas en un programa, es necesario cargarlas. Esto se realiza con el comando `import`. En este caso, importamos el paquete *math*.  \n",
    "\n",
    "`import math`\n",
    "\n",
    "*math* tiene multiples funciones para realizar operaciones matemáticas, incluyendo operaciones trigonométricas, logaritmos, etc. Para usar una función o variable dentro de *math*, si debe llamar el paquete y la función. \n",
    "\n",
    "`pi = math.pi`\n"
   ]
  },
  {
   "cell_type": "markdown",
   "id": "0d1312b0-8c9b-4abf-ae55-b067bfad59fc",
   "metadata": {},
   "source": [
    "## Variables tipo `boolean`"
   ]
  },
  {
   "cell_type": "markdown",
   "id": "1cdd7ae0-1e54-4ff5-9ef1-4c9c460250bd",
   "metadata": {},
   "source": [
    "En programación en ocasiones necesitamos saber si una expresión es `Verdadera` o `Falsa`. En Python, podemos definir una variable cuyo resultado sólo tiene dos posibles resultados, `True` o `False`, esta variable es de tipo boleana o `bool` \n"
   ]
  },
  {
   "cell_type": "code",
   "execution_count": 11,
   "id": "4e60c9be-d86b-4f4c-b597-3e1e1ca6d92b",
   "metadata": {},
   "outputs": [
    {
     "name": "stdout",
     "output_type": "stream",
     "text": [
      "10>9? True\n",
      "10=9? False\n",
      "10<9? False\n",
      "Clase de a <class 'bool'>\n"
     ]
    }
   ],
   "source": [
    "a = (10 > 9)\n",
    "b = (10 == 9)\n",
    "c = (10 < 9)\n",
    "\n",
    "print('10>9?', a)\n",
    "print('10=9?', b)\n",
    "print('10<9?', c)\n",
    "\n",
    "print('Clase de a', type(a))\n"
   ]
  },
  {
   "cell_type": "markdown",
   "id": "f3b5ab67-1fe3-48e6-b91e-d61d63601bd9",
   "metadata": {},
   "source": [
    "### Ejercicio: Masa de  la  Luna y Núcleo Interno \n",
    "\n",
    "El radio  la Luna es 1737 km (aprox) y el radio del núcleo interno de  la Tierra es de 1220 km. Asumiendo que la densidad de la Luna es 3340 $kg/m3$ y que la densidad del núcleo interno es 10000 $kg/m3$, diga si es falso o verdadero que la masa de la Luna es mayor.\n",
    "Recuerde el volumen de una esfera es:\n",
    "$$\n",
    "V = \\frac{4}{3}\\pi r^3\n",
    "$$\n",
    "donde $r$ es el radio y la masa de una esfera es\n",
    "$$\n",
    "M = \\frac{V}{\\rho}\n",
    "$$\n",
    "donde $\\rho$ es la densidad. \n"
   ]
  },
  {
   "cell_type": "code",
   "execution_count": 12,
   "id": "ff785e3b-e1c2-486d-8ac3-a9a3cb1e1f17",
   "metadata": {},
   "outputs": [
    {
     "name": "stdout",
     "output_type": "stream",
     "text": [
      "         Luna        Nucleo Int. \n",
      "Volumen  2.195e+19   7.606e+18    m3 \n",
      "Densidad 3.340e+03   1.200e+04    kg/m3 \n",
      "Masa     7.332e+22   9.127e+22    kg \n",
      "\n",
      "¿La masa de la Luna mayor que la del Nucleo Interno? False\n"
     ]
    }
   ],
   "source": [
    "import math\n",
    "\n",
    "rL    = 1737e3\n",
    "rN    = 1220e3\n",
    "rho_L = 3340 \n",
    "rho_N = 12000\n",
    "\n",
    "pi = math.pi\n",
    "\n",
    "VL  = 4/3 * pi * rL**3\n",
    "VN  = 4/3 * pi * rN**3\n",
    "\n",
    "ML = VL * rho_L\n",
    "MN = VN * rho_N\n",
    "\n",
    "Resp = ML>MN\n",
    "print('         Luna        Nucleo Int. ') \n",
    "print('Volumen  %4.3e   %4.3e    m3 ' %(VL,VN))\n",
    "print('Densidad %4.3e   %4.3e    kg/m3 ' %(rho_L,rho_N))\n",
    "print('Masa     %4.3e   %4.3e    kg ' %(ML,MN))\n",
    "print()     \n",
    "print('¿La masa de la Luna mayor que la del Nucleo Interno?', Resp)"
   ]
  },
  {
   "cell_type": "markdown",
   "id": "ad68bad8-00b1-49dc-b2d3-210aa18bd79c",
   "metadata": {},
   "source": [
    "## Variable compleja"
   ]
  },
  {
   "cell_type": "markdown",
   "id": "68f36c25-3f87-44ae-b318-c606a789d35c",
   "metadata": {},
   "source": [
    "El uso de números complejos puede no ser familiar para muchos en Geociencias, pero en el tratamiento de datos y series de tiempo, se usa para el análisis de Fourier, y en geofísica también es muy utilizado.\n",
    "\n",
    "En algunos lenguajes, el uso de números complejos no es sencillo. En Fortran por ejemplo, un número complejo es estandar, mientras que en C/C++ no lo es y se requiere cargar librerías para poder trabajar con ellos. "
   ]
  },
  {
   "cell_type": "markdown",
   "id": "bb29495c-5dc6-4371-baa1-bbfb971da6f7",
   "metadata": {},
   "source": [
    "En Python se puede definir un número complejo usando\n",
    "```\n",
    "z = complex(2,3)\n",
    "```\n",
    "o también \n",
    "```\n",
    "z = 2+3j\n",
    "```\n",
    "donde `j` se usa en vez de `i` en Matlab.\n",
    "\n",
    "Un programa básico con algunos ejemplos básicos del uso de números complejos en Python se muestra:"
   ]
  },
  {
   "cell_type": "code",
   "execution_count": 13,
   "id": "c519098b-0384-491a-9642-30dfaab77bfe",
   "metadata": {},
   "outputs": [
    {
     "name": "stdout",
     "output_type": "stream",
     "text": [
      "x  =  1\n",
      "z0 =  2j\n",
      "z1 =  (3+4j)\n",
      "Clases de x, z0, z1 <class 'int'> <class 'complex'> <class 'complex'>\n",
      "Componente Real =  3.0\n",
      "Componente Imag =  4.0\n"
     ]
    }
   ],
   "source": [
    "\"\"\"\n",
    "basic_complex.py\n",
    " Conceptos básicos de complejos en Python\n",
    "\"\"\"\n",
    "x  = 1\n",
    "z0 = 2j\n",
    "z1 = 3  + 4j\n",
    "print('x  = ', x)\n",
    "print('z0 = ', z0)\n",
    "print('z1 = ', z1)\n",
    "print('Clases de x, z0, z1', type(x), type(z0), type(z1))\n",
    "print('Componente Real = ',z1.real)\n",
    "print('Componente Imag = ',z1.imag)\n"
   ]
  },
  {
   "cell_type": "markdown",
   "id": "c25f8b1d-bec1-400c-95e5-f4e103dec53c",
   "metadata": {},
   "source": [
    "### Ejercicio - División de números complejos\n",
    "$$\n",
    "\\frac{3i}{4-3i} = -\\frac{9}{25}+\\frac{12}{25}i \\approx -0.360+0.480i\n",
    "$$"
   ]
  },
  {
   "cell_type": "code",
   "execution_count": 14,
   "id": "4755c4f5-d033-4248-86c4-c8d2fc787c0d",
   "metadata": {},
   "outputs": [
    {
     "name": "stdout",
     "output_type": "stream",
     "text": [
      "(-0.360 , 0.480)\n"
     ]
    }
   ],
   "source": [
    "\"\"\"\n",
    "div_complex.py\n",
    "\"\"\"\n",
    "z0 = 3j\n",
    "z1 = complex(4,-3)\n",
    "z2 = z0/z1\n",
    "print('(%.3f , %.3f)' %(z2.real, z2.imag))\n"
   ]
  },
  {
   "cell_type": "markdown",
   "id": "038a6915-5eac-4f09-a3a2-0634d8b72c35",
   "metadata": {},
   "source": [
    "## Resumen"
   ]
  },
  {
   "cell_type": "markdown",
   "id": "6c5b5cf9-1fbb-453e-bd36-d4dead6a3611",
   "metadata": {},
   "source": [
    "### Tipos de Variables\n",
    "- `str`, string o conjunto de caracteres.\n",
    "- `int`, números enteros.\n",
    "- `float`, incluye todos los números reales. \n",
    "- `bool`, booleana, dosposibles resultados, verdadero o falso. \n",
    "- `complex`, variable compleja, tiene una componente real y otra imaginaria. "
   ]
  },
  {
   "cell_type": "code",
   "execution_count": null,
   "id": "8833ac01-734a-4451-94c6-ef01251bd1a3",
   "metadata": {},
   "outputs": [],
   "source": []
  }
 ],
 "metadata": {
  "kernelspec": {
   "display_name": "Python 3 (ipykernel)",
   "language": "python",
   "name": "python3"
  },
  "language_info": {
   "codemirror_mode": {
    "name": "ipython",
    "version": 3
   },
   "file_extension": ".py",
   "mimetype": "text/x-python",
   "name": "python",
   "nbconvert_exporter": "python",
   "pygments_lexer": "ipython3",
   "version": "3.9.16"
  }
 },
 "nbformat": 4,
 "nbformat_minor": 5
}
