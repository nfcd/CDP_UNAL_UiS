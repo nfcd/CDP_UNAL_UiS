{
 "cells": [
  {
   "cell_type": "markdown",
   "id": "8f292497",
   "metadata": {},
   "source": [
    "# Fundamentos 3: Bucles, operadores de comparación, condicionales y Booleanos \n",
    "\n",
    "## list comprehension?\n",
    "\n",
    "Cualquier lenguaje de programación debe permitir realizar una serie de operaciones\n",
    "de manera repetida. Esto significa permitir realizar un **bucle** o **loop** para una\n",
    "serie de valores de una variable. Aunque en algunos casos esto se puede realizar de manera sencilla con arreglos de `numpy`, en muchos casos vectoriar las operaciones no es posible (o no es sencillo). \n",
    "\n",
    "\n"
   ]
  },
  {
   "cell_type": "markdown",
   "id": "3e76fcac-508a-43cd-9176-dc59ac9cce67",
   "metadata": {},
   "source": [
    "## Bucles `for`\n",
    "### presión vs profundidad\n",
    "\n",
    "En este ejemplo, vamos a desplegar la presión esperada en *Pa* a varias profundidades. Recordemos que la presión la podemos calcular con:  \n",
    "$$\n",
    "P = \\rho g D\n",
    "$$\n",
    "donde $\\rho (kg/m^3)$ es la densidad de la columna de roca (o agua), $g=9.81 m/s^2$ y \n",
    "$D (m)$ es la profundidad. \n",
    "\n",
    "Asumiendo que la densidad del agua es $\\rho_w=1000 kg/m^3$, muestra la presión hasta una profundidad de 500 metros. \n",
    "\n",
    "\n"
   ]
  },
  {
   "cell_type": "code",
   "execution_count": 18,
   "id": "67b7473a-dd91-4ba9-8668-b10e00322056",
   "metadata": {},
   "outputs": [
    {
     "name": "stdout",
     "output_type": "stream",
     "text": [
      "  Prof.       Presión\n",
      "---------------------\n",
      "  0.0 m       0.0 kPa\n",
      " 10.0 m      98.1 kPa\n",
      " 20.0 m     196.2 kPa\n",
      " 30.0 m     294.3 kPa\n",
      " 40.0 m     392.4 kPa\n",
      " 50.0 m     490.5 kPa\n",
      " 60.0 m     588.6 kPa\n",
      " 70.0 m     686.7 kPa\n",
      " 80.0 m     784.8 kPa\n",
      " 90.0 m     882.9 kPa\n",
      "100.0 m     981.0 kPa\n",
      "110.0 m    1079.1 kPa\n",
      "120.0 m    1177.2 kPa\n",
      "130.0 m    1275.3 kPa\n",
      "140.0 m    1373.4 kPa\n",
      "150.0 m    1471.5 kPa\n",
      "160.0 m    1569.6 kPa\n",
      "170.0 m    1667.7 kPa\n",
      "180.0 m    1765.8 kPa\n",
      "190.0 m    1863.9 kPa\n",
      "200.0 m    1962.0 kPa\n",
      "210.0 m    2060.1 kPa\n",
      "220.0 m    2158.2 kPa\n",
      "230.0 m    2256.3 kPa\n",
      "240.0 m    2354.4 kPa\n",
      "250.0 m    2452.5 kPa\n",
      "260.0 m    2550.6 kPa\n",
      "270.0 m    2648.7 kPa\n",
      "280.0 m    2746.8 kPa\n",
      "290.0 m    2844.9 kPa\n",
      "300.0 m    2943.0 kPa\n",
      "310.0 m    3041.1 kPa\n",
      "320.0 m    3139.2 kPa\n",
      "330.0 m    3237.3 kPa\n",
      "340.0 m    3335.4 kPa\n",
      "350.0 m    3433.5 kPa\n",
      "360.0 m    3531.6 kPa\n",
      "370.0 m    3629.7 kPa\n",
      "380.0 m    3727.8 kPa\n",
      "390.0 m    3825.9 kPa\n",
      "400.0 m    3924.0 kPa\n",
      "410.0 m    4022.1 kPa\n",
      "420.0 m    4120.2 kPa\n",
      "430.0 m    4218.3 kPa\n",
      "440.0 m    4316.4 kPa\n",
      "450.0 m    4414.5 kPa\n",
      "460.0 m    4512.6 kPa\n",
      "470.0 m    4610.7 kPa\n",
      "480.0 m    4708.8 kPa\n",
      "490.0 m    4806.9 kPa\n",
      "500.0 m    4905.0 kPa\n"
     ]
    }
   ],
   "source": [
    "rw = 1000 # kg/m3\n",
    "g  = 9.81 # m/s2\n",
    "\n",
    "print(f\"  Prof.       Presión\")\n",
    "print(f\"---------------------\")\n",
    "for D in range(0,510,10): # cada 10 m, hasta 500 m\n",
    "    P = rw*g*D/1e3  #kPa\n",
    "    print(f\"{D:5.1f} m    {P:6.1f} kPa\")\n"
   ]
  },
  {
   "cell_type": "markdown",
   "id": "5907f3bb-2544-40e3-9c74-880e4d7f0d07",
   "metadata": {},
   "source": [
    "El `for` loop es un comando que ejecuta una serie de comandos (que deben estar indentados). El número de veces o la forma como los ejecuta depende código:\n",
    "\n",
    "`for y in range(iini,iend,jump):`\n",
    "\n",
    "haciendo que la variable `y` tome valores en un rango de `iini` hasta `iend` realizando saltos cada `jump`. La operación en el código anterior se repite 51 veces, empezando en $D=0$ hasta $D=500$ metros de profundidad. \n",
    "\n",
    "Como se puede ver, en el primer *loop*, `D=0`, en el segundo `D=10` y así sucesivamente.     "
   ]
  },
  {
   "cell_type": "markdown",
   "id": "713949b7-119c-46f8-8bc0-801f1003b702",
   "metadata": {},
   "source": [
    "### Observaciones\n",
    "\n",
    "#### La indentación es muy importante\n",
    "- No mezcle espacios y \"tabs\"\n",
    "- Python busca por un número de espacios exacto en la indentación\n",
    "- Aunque no se vea, un tab no es equivalente a ocho espacios para Python.\n",
    "- Notebooks generalmente hace la indentación por Ud, pero no se confie.\n",
    "\n",
    "#### Abrir y cerrar loops\n",
    "\n",
    "- La linea con el comando `for` debe terminar con dos puntos (`:`). \n",
    "- Todo lo que se quiere dentro del loop debe estar intentado. \n",
    "- Para terminar el loop, simplemente retire la indentación. \n",
    "- A diferencia de otros lenguajes, Python no tiene un `end` para el loop."
   ]
  },
  {
   "cell_type": "markdown",
   "id": "dc2a482b",
   "metadata": {},
   "source": [
    "## Condicionales en loops\n",
    "\n",
    "Pensemos en un problema más realista, donde tenemos una columna de agua de 352 m sobre una roca con una densidad $\\rho_c = 2700 kg/m^3$. Para calcular la presión debemos tener en cuenta cuando estamos por debajo de la interfase agua-roca. \n",
    "\n",
    "Recordemos el tipo de variable `bool`, que puede decirnos si la profundidad para la cual estamos calculando la presión es mayor a la profundidad de la interfase. Por ejemplo, podemos usar operadosres de comparación así: \n"
   ]
  },
  {
   "cell_type": "code",
   "execution_count": 20,
   "id": "9c55c902-ef39-475d-908b-acb516a9b209",
   "metadata": {},
   "outputs": [
    {
     "name": "stdout",
     "output_type": "stream",
     "text": [
      "True\n",
      "False\n"
     ]
    }
   ],
   "source": [
    "Dw = 352\n",
    "D  = 100\n",
    "print(D<Dw)\n",
    "D = 431\n",
    "print(D<Dw)"
   ]
  },
  {
   "cell_type": "markdown",
   "id": "a9a0a7b0-ef7e-448b-95b5-74670d253034",
   "metadata": {},
   "source": [
    "Con estos operadores, podemos saber si la estamos todavía en el agua o ya hemos pasado a estar en la capa de roca. "
   ]
  },
  {
   "cell_type": "code",
   "execution_count": 21,
   "id": "1eb60cbd-0f52-4ba7-8df9-b070d464ef83",
   "metadata": {},
   "outputs": [],
   "source": [
    "### Nuevo cálculo de presión"
   ]
  },
  {
   "cell_type": "code",
   "execution_count": 28,
   "id": "d172a46a",
   "metadata": {},
   "outputs": [
    {
     "name": "stdout",
     "output_type": "stream",
     "text": [
      "  Prof.        Presión\n",
      "----------------------\n",
      "   0.0 m       0.0 MPa\n",
      "  50.0 m       0.5 MPa\n",
      " 100.0 m       1.0 MPa\n",
      " 150.0 m       1.5 MPa\n",
      " 200.0 m       2.0 MPa\n",
      " 250.0 m       2.5 MPa\n",
      " 300.0 m       2.9 MPa\n",
      " 350.0 m       3.4 MPa\n",
      " 400.0 m       4.7 MPa\n",
      " 450.0 m       6.0 MPa\n",
      " 500.0 m       7.4 MPa\n",
      " 550.0 m       8.7 MPa\n",
      " 600.0 m      10.0 MPa\n",
      " 650.0 m      11.3 MPa\n",
      " 700.0 m      12.7 MPa\n",
      " 750.0 m      14.0 MPa\n",
      " 800.0 m      15.3 MPa\n",
      " 850.0 m      16.6 MPa\n",
      " 900.0 m      18.0 MPa\n",
      " 950.0 m      19.3 MPa\n",
      "1000.0 m      20.6 MPa\n"
     ]
    }
   ],
   "source": [
    "Dw = 352\n",
    "rw = 1000 # kg/m3\n",
    "rc = 2700 # kg/m3\n",
    "g  = 9.81 # m/s2\n",
    "Dmax = 1050\n",
    "print(f\"  Prof.        Presión\")\n",
    "print(f\"----------------------\")\n",
    "for D in range(0,Dmax,50): # cada 50 m\n",
    "    if (D>Dw):\n",
    "        Pw = rw*g*Dw\n",
    "        Dc = D-Dw\n",
    "        P  = Pw + rc*g*Dc\n",
    "    else:\n",
    "        P = rw*g*D  # Pa   \n",
    "    print(f\"{D:6.1f} m    {P/1e6:6.1f} MPa\")\n"
   ]
  },
  {
   "cell_type": "markdown",
   "id": "347e92ef-b861-4451-9fca-3156c60c931e",
   "metadata": {},
   "source": [
    "Note como la presión en los primeros 300 metros (agua) se comporta de manera similar al caso anterior, pero una vez estamos en las capas de roca, el aumento de la presión con la profundidad es mucho mayor. \n",
    "\n",
    "Para lograr esto, debemos entender que la presión total a cierta profundidad es la suma de las presiones de la columna de agua y la columna de roca por encima del punto de interés. Si la profundidad es menor a la profundidad de la columna de agua, el cálculo sólo involucra la profundidad del agua:\n",
    "$$\n",
    "P = \\rho_w g D \n",
    "$$\n",
    "pero, si la profundidad es mayor\n",
    "$$\n",
    "P = \\rho_w g D_w + \\rho_c  g D_c \n",
    "$$\n",
    "donde $D = D_w + D_c$, la profundidad total es la suma de la profundidad total de agua y el espesor de roca encima nuestro. Esto quiere decir que debemos hacer el cálculo dependiendo de la profundidad, dos condiciones: si la profundidad es mayor o si la profundidad es menor a la profundidad de la columna del agua.  \n",
    "\n",
    "Para llevar a cabo esto, se pueden utilizar condicionales que siguen esta estructura:\n",
    "```\n",
    "if (boolean):\n",
    "   (bloque de código)\n",
    "elif (boolean):\n",
    "   (bloque de código)\n",
    "elif (boolean):\n",
    "   (bloque de código)\n",
    "...\n",
    "else:\n",
    "   (bloque de código)\n",
    "```\n",
    "Cada bloque de código puede tener tantas lineas como se requiera. Y tantos `elif` (else if) como se requiera, y como máximo un `else`. \n",
    "\n",
    "Cuando una condición se cumple, `bool=True`, el bloque de código se ejecuta, sin importar los bloques siguientes. Es decir el órden importa en este caso (Python no revisa los bloques siguientes). El último `else` será ejecutado si ninguna condición anterior es verdadera.  \n",
    "\n",
    "#### Note que el código que pertenece al _loop_ o a un condicionas _if_ está indentado. "
   ]
  },
  {
   "cell_type": "markdown",
   "id": "bb24b3ce-c62d-4c97-a214-5c200f5913c8",
   "metadata": {},
   "source": [
    "## Operadores de relación en varios lenguajes\n",
    "\n",
    "``` \\begin{verbatim}\n",
    "F77    F90   C   MATLAB  Python   significado\n",
    "\n",
    ".eq.   ==    ==   ==     ==       igual a\n",
    "\n",
    ".ne.   /=    !=   ~=     !=       no es igual a\n",
    "\n",
    ".lt.   <     <    <      <        menor a\n",
    "\n",
    ".le.   <=    <=   <=     <=       menor o igual a\n",
    "\n",
    ".gt.   >     >    >      >        mayor a\n",
    "\n",
    ".ge.   >=    >=   >=     >=       mayor o igual a\n",
    "\n",
    ".and. .and.  &&   &      and      y\n",
    "\n",
    ".or.  .or.   ||   |      or       o\n",
    "```\n"
   ]
  },
  {
   "cell_type": "markdown",
   "id": "4a95d245-89ad-445b-ad10-8355909b1658",
   "metadata": {},
   "source": [
    "## Bucles `while`\n",
    "### Adivine el número\n",
    "\n",
    "El siguiente es un programa donde el usuario debe adivinar un número entre 1 y 1000 y el programa le va informando en cada intento si el número introducido por el usuario es mayor o menor que el número que se busca. Al final, cuando el jugador adivina el número, el programa informa el número de intentos.\n",
    "\n",
    "A diferencia de los ejemplos anteriores, en este caso no es posible saber cuantos intentos va a realizar el jugador, y es en este tipo de situaciones donde se recomienda usar `while`. \n"
   ]
  },
  {
   "cell_type": "code",
   "execution_count": 38,
   "id": "17bb076d-1327-4529-bc11-a82ba9187889",
   "metadata": {},
   "outputs": [
    {
     "name": "stdout",
     "output_type": "stream",
     "text": [
      "Retire este print para jugar X =  444\n"
     ]
    },
    {
     "name": "stdin",
     "output_type": "stream",
     "text": [
      "Adivine un número del 1 al 999:  444\n"
     ]
    },
    {
     "name": "stdout",
     "output_type": "stream",
     "text": [
      "Excelente, adivinaste en   1 intentos\n"
     ]
    }
   ],
   "source": [
    "# Juego donde el usuario adivina un número\n",
    "#\n",
    "import numpy as np  \n",
    "\n",
    "# Genera un número aleatorio entre [1 y 1000)\n",
    "X = np.random.randint(1,1000)\n",
    "print('Retire este print para jugar X = ', X)\n",
    "\n",
    "Y = int(input('Adivine un número del 1 al 999: '))\n",
    "intentos = 1\n",
    "\n",
    "while (X != Y):\n",
    "    if (Y>X):\n",
    "        print('Es muy grande ')\n",
    "    elif (Y<X):\n",
    "        print('Es muy pequeño')\n",
    "    \n",
    "    Y = int(input('Intente nuevamente '))\n",
    "    intentos += 1\n",
    "\n",
    "print(f\"Excelente, adivinaste en {intentos:3d} intentos\")\n"
   ]
  },
  {
   "cell_type": "markdown",
   "id": "86b7087b-cb38-46b6-b2e6-6da1f51e137d",
   "metadata": {},
   "source": [
    "El bucle `while` funciona igual a un `for`, pero tiene una condición desde el principio. En el código\n",
    "```\n",
    "while (X!=Y):\n",
    "```\n",
    "el bucle se va a repetir hasta que la condición `X!=Y` (X es diferente de Y) sea `FALSE`. Es decir que mientras la condición sea `TRUE` el bucle se va a repetir infinitamente. Por esto es importante tener cuidado que la condición debe cambiar dentro del bucle, sino nunca cambia y el bucle es eterno. \n",
    "\n",
    "#### Algunas cosas nuevas\n",
    "\n",
    "En el programa anterior usamos varias funciones que no habíamos visto. Para poder interactuar con el usuario por medio del teclado, podemos utilizar la función `input`. Esta función espera la respuesta del usuario y termina con un `Enter`. Cómo esperamos un número entero, el input del teclado lo convertimos a un entero. \n",
    "\n",
    "Para generar el número que el usuario debe adivinar (para que no sea siempre el mismo) usamos el generador de números aleatorios enteros de `numpy` con la función \n",
    "`np.random.randint()`. "
   ]
  },
  {
   "cell_type": "markdown",
   "id": "676c1a7e-3b7b-4a41-a0eb-a80ead63d3bd",
   "metadata": {},
   "source": [
    "### Bucles `for` vs `while`\n",
    "\n",
    "Existen entonces dos tipos de bucles o _loop_. Para el programador clásico (me incluye acá), el `for` parece más sencillo y lógico. ¿Pero cuál escoger?\n",
    "\n",
    "- Si Ud. sabe de antemano el número de iteraciones que debe hacer, o va a hacer un _loop_ sobre una lista o arreglo donde el número total de elementos es conocido, el **`for`** es su mejor opción. \n",
    "\n",
    "- Si debe realizar una iteración de un cálculo hasta que una condición se cumpla, y no se puede saber cuando esa condición se va a cumplir, el **`while`** es su mejor opción."
   ]
  },
  {
   "cell_type": "markdown",
   "id": "b150a999-f043-4475-ac54-ef61f6d537a0",
   "metadata": {},
   "source": [
    "# Comprensión de listas\n",
    "\n",
    "La comprensión de listas ofrece una forma de evaluar el contenido en una lista y crear una nueva lista que cumple alguna condición. \n",
    "\n",
    "Un ejemplo con composiciones de minerales:\n",
    "\n"
   ]
  },
  {
   "cell_type": "code",
   "execution_count": 51,
   "id": "2a37fcca-3db8-4bfa-9e90-931f52261bf3",
   "metadata": {},
   "outputs": [
    {
     "name": "stdout",
     "output_type": "stream",
     "text": [
      "Varios minerales formadores de roca  ['SiO2', 'CaCO3', 'KAlSi3O8', 'NaAlSi3O8', 'CaAl2Si2O8', '(Mg,Fe)2SiO4', '(Ca,Fe,Mg)(Si,Al)2O6']\n",
      "\n",
      "Minerales con Al ['KAlSi3O8', 'NaAlSi3O8', 'CaAl2Si2O8', '(Ca,Fe,Mg)(Si,Al)2O6']\n",
      "Minerales sin Si ['CaCO3']\n"
     ]
    }
   ],
   "source": [
    "minerales = ['SiO2', 'CaCO3','KAlSi3O8','NaAlSi3O8',\n",
    "            'CaAl2Si2O8','(Mg,Fe)2SiO4','(Ca,Fe,Mg)(Si,Al)2O6']\n",
    "\n",
    "print('Varios minerales formadores de roca ', minerales)\n",
    "\n",
    "Almin   = [x for x in minerales if \"Al\" in x]\n",
    "NoSimin = [x for x in minerales if \"Si\" not in x]\n",
    "\n",
    "print()\n",
    "print('Minerales con Al', Almin)\n",
    "print('Minerales sin Si', NoSimin)\n",
    "\n"
   ]
  },
  {
   "cell_type": "code",
   "execution_count": null,
   "id": "89e5fb34-89fa-418e-af1e-a57ed79f61fd",
   "metadata": {},
   "outputs": [],
   "source": []
  }
 ],
 "metadata": {
  "kernelspec": {
   "display_name": "Python 3 (ipykernel)",
   "language": "python",
   "name": "python3"
  },
  "language_info": {
   "codemirror_mode": {
    "name": "ipython",
    "version": 3
   },
   "file_extension": ".py",
   "mimetype": "text/x-python",
   "name": "python",
   "nbconvert_exporter": "python",
   "pygments_lexer": "ipython3",
   "version": "3.9.16"
  }
 },
 "nbformat": 4,
 "nbformat_minor": 5
}
