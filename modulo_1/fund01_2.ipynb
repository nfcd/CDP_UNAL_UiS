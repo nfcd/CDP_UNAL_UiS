{
 "cells": [
  {
   "cell_type": "markdown",
   "id": "c0567553-43b6-4b28-a211-81091d9a2aa4",
   "metadata": {},
   "source": [
    "# Fundamentos de Python 1\n",
    "En este módulo, vamos a concentrarnos en **operaciones matemáticas** sencillas en Python.\n",
    "Para entender dichas operaciones, es necesario también entender algunos **tipos de variables** y las operaciones que se pueden llevar a cabo con ellas.\n",
    "\n",
    "## Mi primer programa de Python\n",
    "\n",
    "El primer programa que escribiremos en Python es el clásico `Hola Mundo!`\n",
    "\n",
    "Al usar Jupyter Notebooks (Google Colab o similares), simplemente se puede correr el código en una celda código como la de abajo, y ejecutarlo. También se puede crear un `script`, por ejemplo un archivo de texto no formateado que podemos llamar `hola.py`, con las siguientes linea:"
   ]
  },
  {
   "cell_type": "code",
   "execution_count": 1,
   "id": "2f72871b-36c0-4227-8a1b-f4f9c4ad00a6",
   "metadata": {},
   "outputs": [
    {
     "name": "stdout",
     "output_type": "stream",
     "text": [
      "Hola Mundo!\n"
     ]
    }
   ],
   "source": [
    "print(\"Hola Mundo!\")"
   ]
  },
  {
   "cell_type": "markdown",
   "id": "bf29f205-4b6e-4f45-a3c0-d372a11315ab",
   "metadata": {},
   "source": [
    "Al ejecutar la celda, el resultado despliega en la pantalla el texto `Hola Mundo!`. Si desea usar el script `hola.py`, puede ejecutarlo en una ventana de terminal, en el mismo directorio donde el script está, y usando el comando `python hola.py`.\n",
    "\n",
    "La linea de código tiene el comando `print`, que es una función de Python la cual despliega el texto que está dentro del paréntesis. Observe cómo el texto se encuentra entre comillas. Las comillas pueden ser sencillas o dobles. Nosotros utilizaremos comillas dobles.\n",
    "\n",
    "## Variables tipo `str`\n",
    "\n",
    "Esta es una segunda versión del programa que da el mismo resultado:"
   ]
  },
  {
   "cell_type": "code",
   "execution_count": 2,
   "id": "0e113e4d-fe1a-48af-9fd4-a443d2a1cd3b",
   "metadata": {},
   "outputs": [
    {
     "name": "stdout",
     "output_type": "stream",
     "text": [
      "Hola Mundo!\n"
     ]
    }
   ],
   "source": [
    "# Mi primer programa de Python\n",
    "# Declara una variable a de tipo str\n",
    "# e imprime la variable a con la función print\n",
    "\n",
    "a = \"Hola Mundo!\" # declare variable a\n",
    "print(a) # despliegue variable a"
   ]
  },
  {
   "cell_type": "markdown",
   "id": "96f397b7-7763-4c90-af43-02cf6ea78bd5",
   "metadata": {},
   "source": [
    "### Observaciones\n",
    "\n",
    "Este código tiene las siguientes características:\n",
    "- El resultado es idéntico a la versión anterior.\n",
    "- Las tres primeras líneas comienzan con el símbolo #\n",
    "- Creamos una variable `a` de tipo `str` (string)\n",
    "- Hay una linea que se encuentra vacía. \n",
    "\n",
    "### Explicación\n",
    "Las tres primeras lineas del código representan comentarios. Cualquier texto después de un símbolo # es un comentario y Python no lo tiene en cuenta. Al terminar la linea termina el comentario. También es posible hacer comentarios dentro de una misma línea, cómo en las dos últimas líneas del código.\n",
    "\n",
    "La cuarta linea es una linea en blanco. Python no tiene en cuenta estas lineas, y pueden haber tantas lineas en blanco como uno quiera. El uso de lineas en blanco hace el código mas fácil de leer.\n",
    "\n",
    "La siguientes dos líneas sí son interpretadas por el programa. En la primera definimos una variable `a` de tipo `str`, la cual representa un conjunto de caracteres. En la segunda el comando `print` despliega la variable `a`. \n",
    "\n",
    "Para saber el tipo de la variable `a` podemos usar el comando `type`:"
   ]
  },
  {
   "cell_type": "code",
   "execution_count": 3,
   "id": "27b89694-7c2a-4886-92ea-6be87fbd0711",
   "metadata": {},
   "outputs": [
    {
     "name": "stdout",
     "output_type": "stream",
     "text": [
      "<class 'str'>\n"
     ]
    }
   ],
   "source": [
    "print(type(a)) # despliegue el tipo de la variable a"
   ]
  },
  {
   "cell_type": "markdown",
   "id": "6a5391fb",
   "metadata": {},
   "source": [
    "`a` es una variable, pero también es una clase (class) de tipo `str`. Las clases son un concepto fundamental de Python y de los lenguajes de programación orientados a objetos. De forma sencilla, `a` es un objeto de la clase `str` que tiene métodos de esa clase. Por ejemplo para escribir `a` en mayúsculas, podemos utilizar el método de la clase `str` `upper()`: "
   ]
  },
  {
   "cell_type": "code",
   "execution_count": 4,
   "id": "eb46dd78",
   "metadata": {},
   "outputs": [
    {
     "name": "stdout",
     "output_type": "stream",
     "text": [
      "HOLA MUNDO!\n"
     ]
    }
   ],
   "source": [
    "# Despliegue la variable a en mayúsculas\n",
    "# Use el método de str, upper()\n",
    "\n",
    "print(a.upper()) # despliegue la variable a en mayúsculas"
   ]
  },
  {
   "cell_type": "markdown",
   "id": "589ffa18",
   "metadata": {},
   "source": [
    "Python tiene una propiedad muy interesante que se lllama introspección de objetos. Esto le permite al lenguaje determinar el tipo de objetos durante la ejecución. Todas las variables en Python son objetos, y podemos examinar fácilmente sus métodos. En la celda de abajo, localize el cursor después de `a.`, y presione la tecla `Tab` para ver una lista de los métodos de la variable `a`. Presione `Esc` para salir de la lista:"
   ]
  },
  {
   "cell_type": "code",
   "execution_count": 6,
   "id": "d42b7e42",
   "metadata": {},
   "outputs": [],
   "source": [
    "# Localice el cursor despues de a.\n",
    "# y presione Tab para ver los atributos y métodos de a\n",
    "\n",
    "a."
   ]
  },
  {
   "cell_type": "markdown",
   "id": "e9b8dcf1-f0b4-443d-8fad-0f389a542dd6",
   "metadata": {},
   "source": [
    "No dude en utilizar este sistema para investigar los métodos de cualquier variable en Python.\n",
    "\n",
    "### str es una colección de caracteres \n",
    "\n",
    "La variable `a` de tipo `str` es una colección de caracteres. Podemos determinar los caracteres en alguna posición dentro de la variable, por ejemplo: "
   ]
  },
  {
   "cell_type": "code",
   "execution_count": 7,
   "id": "cad50b66-aba6-48db-b6ea-4ae39d12bd10",
   "metadata": {},
   "outputs": [
    {
     "name": "stdout",
     "output_type": "stream",
     "text": [
      "Hola Mundo!\n",
      "El primer caracter es H\n",
      "El sexto caracter es M\n",
      "El último caracter es !\n"
     ]
    }
   ],
   "source": [
    "print(a) # despliegue a\n",
    "print(\"El primer caracter es\", a[0])  # despliegue el primer caracter (elemento) de a\n",
    "print(\"El sexto caracter es\", a[5])   # despliegue el sexto caracter (elemento) de a\n",
    "print(\"El último caracter es\", a[-1]) # despliegue el último caracter (elemento) de a"
   ]
  },
  {
   "cell_type": "markdown",
   "id": "988c9a3c-a834-4cee-9608-d0f532b00b78",
   "metadata": {},
   "source": [
    "Tenga en cuenta que los índices de los caracteres en la variable `a` comienzan en cero. Esto es una característica de las colecciones en Python, tales como listas, tuples, diccionarios y arreglos. Es una característica también de lenguages de programación como C y C++. No es el caso de lenguajes de programación como Matlab u Fortran. Por lo tanto uno debe tener cuidado con los índices al transferir código entre Python y Matlab o Fortran.\n",
    "\n",
    "Así, el primer elemento de la serie de caracteres en `a` tiene el índice `0`, y corresponde a la letra `H`. El sexto elemento `a[5]` es la letra `M`. Para determinar el último caracter, podemos usar el numero `-1`, y desde allí podemos buscar caracteres en dirección reversa; por ejemplo, el penúltimo caracter tiene el índice `-2`.\n",
    "\n",
    "Note que en una variable `str` el espacio también representa un caracter, y el índice `i` de un elemento se define dentro de paréntesis cuadrados `[i]`.\n",
    "\n",
    "### Operaciones con variables de tipo str\n",
    "\n",
    "Un buen ejemplo de operaciones con variables de tipo `str` es la concatenación de variables. Curiosamente para concatenar variables de tipo `str`, Python usa el símbolo de suma `+`:"
   ]
  },
  {
   "cell_type": "code",
   "execution_count": 6,
   "id": "b4a88b7f-a38f-48d7-984f-d4c5b1c9a491",
   "metadata": {},
   "outputs": [
    {
     "name": "stdout",
     "output_type": "stream",
     "text": [
      "Hola mamá\n"
     ]
    }
   ],
   "source": [
    "a = \"Hola Mundo!\" # variable a de tipo str\n",
    "b = \"mamá\"        # variable b de tipo b\n",
    "c = a[0:5] + b # variable de tipo c formada por la concatenación de los 5 primeros caracteres de a y b\n",
    "print(c) # antes de ejecutar el código, trate de adivinar el resultado"
   ]
  },
  {
   "cell_type": "markdown",
   "id": "9a345062-7924-4cd8-bf91-fc0d5c850cec",
   "metadata": {},
   "source": [
    "Si multiplicamos una variable `str` por tres, que en principio no tiene sentido, Python lo interpreta como la concatenación o repetición de los caracteres tres veces:  "
   ]
  },
  {
   "cell_type": "code",
   "execution_count": 7,
   "id": "4bd2d7dc-88cb-4c87-965c-c064d9480971",
   "metadata": {},
   "outputs": [
    {
     "name": "stdout",
     "output_type": "stream",
     "text": [
      "holaholahola\n"
     ]
    }
   ],
   "source": [
    "b = 'hola' # variable b de tipo str\n",
    "c = b*3 # c es b *  3\n",
    "print(c) # antes de ejecutar el código, trate de adivinar el resultado"
   ]
  },
  {
   "cell_type": "markdown",
   "id": "4543de98",
   "metadata": {},
   "source": [
    "Y este es un truco para descubrir palíndromos, frases que se leen igual de izquierda a derecha que de derecha a izquierda: "
   ]
  },
  {
   "cell_type": "code",
   "execution_count": 8,
   "id": "0bb45d0b",
   "metadata": {},
   "outputs": [
    {
     "name": "stdout",
     "output_type": "stream",
     "text": [
      "osomreh átse aíd lE\n",
      "yoh agoy ogah oY\n"
     ]
    }
   ],
   "source": [
    "# Un truco, para invertir una frase (str) y descubrir palíndromos\n",
    "a = \"El día está hermoso\" # variable a de tipo str (una frase)\n",
    "b = \"Yo hago yoga hoy\" # variable b de tipo str (una frase)\n",
    "\n",
    "print(a[::-1]) # imprima cada caracter de a pero en sentido inverso\n",
    "print(b[::-1]) # imprima cada caracter de b pero en sentido inverso"
   ]
  },
  {
   "cell_type": "markdown",
   "id": "103a781a-1e9e-4333-9a18-99af949a1ba7",
   "metadata": {},
   "source": [
    "## Números y operaciones matemáticas\n",
    "\n",
    "A continuación, vamos realizar operaciones matemáticas en Python. Básicamente vamos a usar Python como una calculadora:\n",
    "\n",
    "### Multiplicación de dos números enteros\n",
    "\n",
    "El siguiente codigo ilustra la multiplicación de dos números enteros:"
   ]
  },
  {
   "cell_type": "code",
   "execution_count": 9,
   "id": "b9216364-d81c-4423-bd2c-da9ec1b5bcf0",
   "metadata": {},
   "outputs": [
    {
     "name": "stdout",
     "output_type": "stream",
     "text": [
      "2 * 3  =  6\n",
      "2 * 3 = 6\n"
     ]
    }
   ],
   "source": [
    "# Multiplique dos números enteros\n",
    "\n",
    "a = 2 # variable a de tipo int\n",
    "b = 3 # variable b de tipo int\n",
    "\n",
    "c = a * b # multiplique a y b\n",
    "\n",
    "print(a,\"*\",b,\" = \",c) # una forma de desplegar el resultado\n",
    "print(f\"{a} * {b} = {c}\") # otra forma de desplegar el mismo resultado usando \"f\" strings"
   ]
  },
  {
   "cell_type": "markdown",
   "id": "04dd0d15-856d-464e-a8fd-0613f97a599e",
   "metadata": {},
   "source": [
    "### Explicación\n",
    "\n",
    "El programa define al comienzo dos variables, `a` y `b`. Estas dos variables son de tipo `int`, es decir, son números enteros. La variable `c` es el resultado de la multiplicación de las variables `a` y `b`.\n",
    "\n",
    "Las líneas con `print` despliegan el resultado. En la primera de estas lineas, usamos las variables y strings definidas por comillas `\"\"`. En la segunda de estas líneas, usamos un `f-str`. Este tipo de strings es una forma rápida y concisa de desplegar resultados. Las utilizaremos de ahora en adelante. \n",
    "\n",
    "### Observación\n",
    "\n",
    "Python define de manera automática si un número es entero o decimal (float), aunque si el usuario así lo prefiere, puede definir la variable explicitamente como entero. En el caso anterior:\n",
    "\n",
    "`a = int(2)`\n",
    "\n",
    "`b = int(3)`\n",
    "\n",
    "`a` y `b` son de tipo `int` (enteros). De que tipo es la variable `c`? Veamos:"
   ]
  },
  {
   "cell_type": "code",
   "execution_count": 10,
   "id": "c5303c0d-5e6f-4b80-9bed-ade2c48ca055",
   "metadata": {},
   "outputs": [
    {
     "name": "stdout",
     "output_type": "stream",
     "text": [
      "<class 'int'>\n",
      "<class 'int'>\n",
      "<class 'int'>\n"
     ]
    }
   ],
   "source": [
    "print(type(a)) # despliegue el tipo de la variable a\n",
    "print(type(b)) # despliegue el tipo de la variable b\n",
    "print(type(c)) # despliegue el tipo de la variable c"
   ]
  },
  {
   "cell_type": "markdown",
   "id": "749da378-ee9c-4de7-8c21-eb2ac14b28d7",
   "metadata": {},
   "source": [
    "`c` es también de tipo `int`. El resultado de la multiplicación de dos numeros enteros es un número entero.\n",
    "\n",
    "### División de dos números enteros\n",
    "\n",
    "Qué pasa si en vez de multiplicar `a` y `b`, los dividimos? Que tipo de variable será `c`? Veamos:"
   ]
  },
  {
   "cell_type": "code",
   "execution_count": 11,
   "id": "aff3ec7e-401a-4124-96ee-57a60b60f2ab",
   "metadata": {},
   "outputs": [
    {
     "name": "stdout",
     "output_type": "stream",
     "text": [
      "2 / 3 = 0.6666666666666666\n",
      "\n",
      "a  <class 'int'>\n",
      "b  <class 'int'>\n",
      "c  <class 'float'>\n"
     ]
    }
   ],
   "source": [
    "a = 2 # variable a de tipo int\n",
    "b = 3 # variable b de tipo int\n",
    "c = 2 / 3 # cual será el tipo de esta variable?\n",
    "print(f\"{a} / {b} = {c}\") # despliegue el resultado usando un f-str\n",
    "print(\"\") # incluya una linea en blanco\n",
    "print('a ', type(a)) # despliegue el tipo de a -> int\n",
    "print('b ', type(b)) # despliegue el tipo de b -> int\n",
    "print('c ', type(c)) # despliegue el tipo de c -> ??"
   ]
  },
  {
   "cell_type": "markdown",
   "id": "26b73e64-4d17-4944-b3dc-7edaa06bc90c",
   "metadata": {},
   "source": [
    "`c` es de tipo `float`, es decir un número decimal. Python a través de la división determina que la variable `c` no es un número entero `int`, sino un número decimal `float`.\n",
    "\n",
    "### Operadores matemáticos\n",
    "\n",
    "Cómo hemos visto, el operador `*` indica multiplicación, y el operador `/` indica división. El operador de suma es `+`, y el de resta es `-`. Así es en la mayoría de los lenguajes de programación.\n",
    "\n",
    "Para elevar un número `a` a la potencia `b`, utilizamos el operador `**` de la siguiente manera `a ** b`. Las dos variables en esta operación pueden ser enteros o decimales:"
   ]
  },
  {
   "cell_type": "code",
   "execution_count": 12,
   "id": "fe23705b",
   "metadata": {},
   "outputs": [
    {
     "name": "stdout",
     "output_type": "stream",
     "text": [
      "a + b = 5.5\n",
      "a - b = -1.5\n",
      "a ^ b = 11.313708498984761\n"
     ]
    }
   ],
   "source": [
    "a = 2 # variable a de tipo int\n",
    "b = 3.5 # variabe b de tipo float\n",
    "\n",
    "print(f\"a + b = {a + b}\") # despliegue a + b\n",
    "print(f\"a - b = {a - b}\") # despliegue a - b\n",
    "print(f\"a ^ b = {a ** b}\") # despliegue a elevado a la b"
   ]
  },
  {
   "cell_type": "markdown",
   "id": "85110b3a",
   "metadata": {},
   "source": [
    "Finalmente, existen dos operadores matemáticos en Python para realizar división entera, y para calcular el residuo de la división. Estos son el operador `//` para división entera, y `%` para calcular el residuo de la división. El operador `%` permite de una forma rápida determinar si un número es par o impar:"
   ]
  },
  {
   "cell_type": "code",
   "execution_count": 13,
   "id": "395a903f",
   "metadata": {},
   "outputs": [
    {
     "name": "stdout",
     "output_type": "stream",
     "text": [
      "2\n",
      "1\n",
      "9 es par si el residuo de 9/2 es 0. Residuo = 1\n"
     ]
    }
   ],
   "source": [
    "a = 9 # variable a de tipo int\n",
    "b = 4 # variable b de tipo int\n",
    "print (a // b) # trate de adivinar cual es el resultado  \n",
    "print (a % b) # trate de adivinar cual es el resultado\n",
    "print (f\"{a} es par si el residuo de {a}/2 es 0. Residuo = {a % 2}\") # trate de adivinar cual es el resultado"
   ]
  },
  {
   "cell_type": "markdown",
   "id": "856372a5",
   "metadata": {},
   "source": [
    "### Operadores matemáticos más avanzados\n",
    "\n",
    "Los operadores de Python son los que describimos en la sección anterior. Para ejecutar operaciones más avanzadas, por ejemplo senos y cosenos, debemos cargar una librería que contiene esos métodos. Es común cargar la librería `math` para realizar este tipo de operaciones. Sin embargo, pensando en los módulos siguientes, vamos a utilizar una librería de más alto nivel llamada `numpy`. Esta librería permite realizar operaciones matemáticas más avanzadas, así como trabajar con arreglos, los cuales veremos más tarde.\n",
    "\n",
    "Como un ejemplo, calculemos el seno de 30 grados:"
   ]
  },
  {
   "cell_type": "code",
   "execution_count": 14,
   "id": "c00ea12d",
   "metadata": {},
   "outputs": [
    {
     "name": "stdout",
     "output_type": "stream",
     "text": [
      "Seno de 30 grados es 0.50\n"
     ]
    }
   ],
   "source": [
    "import numpy as np # cargue la libreria numpy as np\n",
    "\n",
    "grados = 30 # ángulo en grados\n",
    "pi = np.pi  # número pi, 3.1416...\n",
    "radianes = grados * pi/180 # ángulo en radianes\n",
    "seno = np.sin(radianes) # seno del ángulo\n",
    "print(f\"Seno de {grados} grados es {seno:.2f}\") # despliegue resultado, seno con 2 decimales"
   ]
  },
  {
   "cell_type": "markdown",
   "id": "48d94b54",
   "metadata": {},
   "source": [
    "### Explicación\n",
    "\n",
    "En la primera línea del código cargamos la librería `numpy` con el alias `np`. De esta forma podemos utilizar métodos de `numpy` de la forma `np.metodo()`.\n",
    "\n",
    "En la segunda línea, definimos el ángulo en grados. En la tercera linea extraemos la constante `pi` de `numpy`. Este es el número pi (3.1416...). En la cuarta línea, convertimos el ángulo de grados a radianes. La quinta línea calcula el seno del ángulo, y la última linea despliega el resultado. Note como en la última linea, podemos controlar el número de decimales al desplegar la variable `seno`. Si queremos más decimales, por ejemplo 4, podemos hacer lo siguiente `{seno:.4f}`. Esto es importante en ciencias como la geología, donde la precisión extrema de resultados a menudo no tiene sentido, y en cambio indica un desconocimiento del método de medición utilizado.\n",
    "\n",
    "Algo que es importante recordar, es que las computadoras no entienden grados sino radianes. Así, antes de calcular el seno, coseno, etc. de un ángulo en grados, debemos convertir el ángulo a radianes. No sobra decir, que las funciones inversas arcoseno, arcocoseno, etc., devuelven el ángulo en radianes:"
   ]
  },
  {
   "cell_type": "code",
   "execution_count": 15,
   "id": "b990333a",
   "metadata": {},
   "outputs": [
    {
     "name": "stdout",
     "output_type": "stream",
     "text": [
      "Arcoseno de 0.50 es 0.5236 radianes o 30.00 grados\n"
     ]
    }
   ],
   "source": [
    "radianes = np.arcsin(seno) # ángulo en radianes\n",
    "grados = radianes * 180/pi # ángulo en grados\n",
    "print(f\"Arcoseno de {seno:.2f} es {radianes:.4f} radianes o {grados:.2f} grados\") # despliegue el resultado"
   ]
  },
  {
   "cell_type": "markdown",
   "id": "1918a49c",
   "metadata": {},
   "source": [
    "`numpy` ofrece dos métodos para convertir fácilmente grados a radianes `deg2rad()` y viceversa `rad2deg()`:"
   ]
  },
  {
   "cell_type": "code",
   "execution_count": 16,
   "id": "d57daeda",
   "metadata": {},
   "outputs": [
    {
     "name": "stdout",
     "output_type": "stream",
     "text": [
      "30.00 grados es 0.5236 radianes\n",
      "0.5236 radianes es 30.00 grados\n"
     ]
    }
   ],
   "source": [
    "print(f\"{grados:.2f} grados es {np.deg2rad(grados):.4f} radianes\")\n",
    "print(f\"{radianes:.4f} radianes es {np.rad2deg(radianes):.2f} grados\")"
   ]
  },
  {
   "cell_type": "markdown",
   "id": "74fe8ed8-4c0a-4f3d-8029-6520477c5396",
   "metadata": {},
   "source": [
    "### Ejercicio: Volumen de la Tierra\n",
    "\n",
    "Asumiendo que la Tierra es una esfera, determine el volumen total de nuestro planeta. El volumen $V$ de una esfera es: \n",
    "$$\n",
    "V = \\frac{4}{3}\\pi r^3\n",
    "$$\n",
    "donde $r$ es el radio de la Tierra (6371 km)."
   ]
  },
  {
   "cell_type": "code",
   "execution_count": 17,
   "id": "6f3393a4-1e31-4d8e-a6c5-9431829874a9",
   "metadata": {},
   "outputs": [
    {
     "name": "stdout",
     "output_type": "stream",
     "text": [
      "El volumen de la Tierra es 1083206916845.75 km^3\n"
     ]
    }
   ],
   "source": [
    "# Volumen de la Tierra\n",
    "\n",
    "r  = 6371 # radio de la Tierra en kilometros\n",
    "\n",
    "V  = 4/3 * pi * r**3 # Volumen de la tierra\n",
    "\n",
    "print(f\"El volumen de la Tierra es {V:.2f} km^3\") # volumen con dos decimales"
   ]
  },
  {
   "cell_type": "markdown",
   "id": "2d0990e2",
   "metadata": {},
   "source": [
    "El resultado es un número bastante grande. Que tal si lo mostramos de una forma más razonabe usando notación científica? Para eso usamos el formato `e`:"
   ]
  },
  {
   "cell_type": "code",
   "execution_count": 18,
   "id": "d9a5b0c9",
   "metadata": {},
   "outputs": [
    {
     "name": "stdout",
     "output_type": "stream",
     "text": [
      "El volumen de la Tierra es 1.0832e+12 km^3\n"
     ]
    }
   ],
   "source": [
    "# despliegue el volumen de la Tierra en notación científica\n",
    "# con cuatro decimales\n",
    "print(f\"El volumen de la Tierra es {V:.4e} km^3\") "
   ]
  },
  {
   "cell_type": "markdown",
   "id": "0d1312b0-8c9b-4abf-ae55-b067bfad59fc",
   "metadata": {},
   "source": [
    "## Variables tipo `bool`\n",
    "\n",
    "En programación en ocasiones necesitamos saber si una expresión es `Verdadera` o `Falsa`. En Python, podemos definir una variable cuyo resultado sólo tiene dos posibles resultados, `True` o `False`, esta variable es de tipo boleano o `bool`:"
   ]
  },
  {
   "cell_type": "code",
   "execution_count": 8,
   "id": "4e60c9be-d86b-4f4c-b597-3e1e1ca6d92b",
   "metadata": {},
   "outputs": [
    {
     "name": "stdout",
     "output_type": "stream",
     "text": [
      "10 > 9 True\n",
      "10 = 9? False\n",
      "10 < 9? False\n",
      "<class 'bool'> <class 'bool'> <class 'bool'>\n"
     ]
    }
   ],
   "source": [
    "a = (10 > 9)  # a es un bool\n",
    "b = (10 == 9) # b es un bool\n",
    "c = (10 < 9)  # c es un bool\n",
    "\n",
    "print(\"10 > 9\", a) # despliegue a\n",
    "print(\"10 = 9?\", b) # despliegue b\n",
    "print(\"10 < 9?\", c) # despliegue c\n",
    "\n",
    "print(type(a), type(b), type(c)) # despliegue los tipos de a, b, y c"
   ]
  },
  {
   "cell_type": "markdown",
   "id": "f3b5ab67-1fe3-48e6-b91e-d61d63601bd9",
   "metadata": {},
   "source": [
    "Los operadores `>` (mayor que), `==`(igual que), y `<` (menor que) se llaman operadores de comparación. Los otros operadores de comparación en Python son `>=` (mayor o igual que), `<=` (menor o igual que), y `!=` (no igual que). Estos operadores se utilizan a menudo para construir booleans, y también para introducir condiciones de ejecución del código (sentencia `if`). Esto lo veremos más adelante en otro módulo.\n",
    "\n"
   ]
  },
  {
   "cell_type": "markdown",
   "id": "f08f1860-dbca-40d4-9ae6-ce7c0706286c",
   "metadata": {},
   "source": [
    "### Ejercicio: Masa de  la  Luna y núcleo interno de la Tierra \n",
    "\n",
    "El radio de la Luna es aproximadamente 1737 km y el radio del núcleo interno de la Tierra es 1220 km. Asumiendo que la densidad de la Luna es 3340 $kg/m^3$ y que la densidad del núcleo interno es 10000 $kg/m^3$, diga si es falso o verdadero que la masa de la Luna es mayor que el núcleo de la Tierra.\n",
    "\n",
    "Recuerde que el volumen de una esfera es:\n",
    "$$\n",
    "V = \\frac{4}{3}\\pi r^3\n",
    "$$\n",
    "donde $r$ es el radio; y la masa de una esfera es;\n",
    "$$\n",
    "M = V * {\\rho}\n",
    "$$\n",
    "donde $\\rho$ es la densidad del material en la esfera. "
   ]
  },
  {
   "cell_type": "code",
   "execution_count": 20,
   "id": "ff785e3b-e1c2-486d-8ac3-a9a3cb1e1f17",
   "metadata": {
    "scrolled": true
   },
   "outputs": [
    {
     "name": "stdout",
     "output_type": "stream",
     "text": [
      "                 Luna              Núcleo Int.       Unidad\n",
      "Volumen          2.20e+19          7.61e+18          m^3\n",
      "Densidad         3.34e+03          1.00e+04          kg/m^3\n",
      "Masa             7.33e+22          7.61e+22          kg\n",
      "\n",
      "Es False que la masa de la Luna es mayor que el núcleo interno de la Tierra\n"
     ]
    }
   ],
   "source": [
    "rL    = 1737e3 # radio de la Luna\n",
    "rN    = 1220e3 # radio del núcleo interno de la Tierra\n",
    "rho_L = 3340   # densidad de la Luna\n",
    "rho_N = 10000  # densidad del núcleo interno de la Tierra\n",
    "\n",
    "VL  = 4/3 * pi * rL**3 # volumen de la Luna\n",
    "VN  = 4/3 * pi * rN**3 # volumen del núcleo interno de la Tierra\n",
    "\n",
    "ML = VL * rho_L # masa de la Luna\n",
    "MN = VN * rho_N # masa del núcleo interno de la Tierra\n",
    "\n",
    "resp = ML > MN # masa de la Luna mayor que la masa del núcleo interno de la Tierra\n",
    "\n",
    "# Despliegue los resultados en una tabla\n",
    "espacio = \" \" # un espacio\n",
    "# use n * espacio para alinear las columnas\n",
    "print(f\"{16*espacio} Luna {12*espacio} Núcleo Int. {5*espacio} Unidad\")\n",
    "print(f\"Volumen {8*espacio} {VL:.2e} {8*espacio} {VN:.2e} {8*espacio} m^3\")\n",
    "print(f\"Densidad {7*espacio} {rho_L:.2e} {8*espacio} {rho_N:.2e} {8*espacio} kg/m^3\")\n",
    "print(f\"Masa {11*espacio} {ML:.2e} {8*espacio} {MN:.2e} {8*espacio} kg\")\n",
    "\n",
    "print(\"\") # línea en blanco\n",
    "\n",
    "# Conteste la pregunta\n",
    "print(f\"Es {resp} que la masa de la Luna es mayor que el núcleo interno de la Tierra\")"
   ]
  },
  {
   "cell_type": "markdown",
   "id": "68f36c25-3f87-44ae-b318-c606a789d35c",
   "metadata": {},
   "source": [
    "## Variable compleja\n",
    "\n",
    "El uso de números complejos no es familiar para muchos geólogos, pero es muy útil para el procesamiento de datos y series de tiempo, por ejemplo usando series de Fourier.\n",
    "\n",
    "En algunos lenguajes, el uso de números complejos no es sencillo. En Fortran por ejemplo, un número complejo es estandar, mientras que en C/C++ no lo es y se requiere cargar librerías para poder trabajar con ellos. \n",
    "\n",
    "En Python se puede definir un número complejo usando\n",
    "```\n",
    "z = complex(2,3)\n",
    "```\n",
    "o también \n",
    "```\n",
    "z = 2+3j\n",
    "```\n",
    "donde `2` es la parte real del número, y `3`es la parte imaginaria del número. Para obtener la parte real del número podemos utilizar su atributo `real`, y para obtener la parte imaginaria del número podemos utilizar su atributo `imag`.\n",
    "\n",
    "Estos son algunos ejemplos:"
   ]
  },
  {
   "cell_type": "code",
   "execution_count": 21,
   "id": "c519098b-0384-491a-9642-30dfaab77bfe",
   "metadata": {},
   "outputs": [
    {
     "name": "stdout",
     "output_type": "stream",
     "text": [
      "x  =  1\n",
      "z0 =  2j\n",
      "z1 =  (3+4j)\n",
      "Clases de x, z0, z1 <class 'int'> <class 'complex'> <class 'complex'>\n",
      "Componente real de z1 =  3.0\n",
      "Componente imaginario de z1 =  4.0\n"
     ]
    }
   ],
   "source": [
    "x  = 1\n",
    "z0 = 2j\n",
    "z1 = 3  + 4j\n",
    "print(\"x  = \", x)\n",
    "print(\"z0 = \", z0)\n",
    "print(\"z1 = \", z1)\n",
    "print(\"Clases de x, z0, z1\", type(x), type(z0), type(z1))\n",
    "print(\"Componente real de z1 = \",z1.real)\n",
    "print(\"Componente imaginario de z1 = \",z1.imag)"
   ]
  },
  {
   "cell_type": "markdown",
   "id": "c25f8b1d-bec1-400c-95e5-f4e103dec53c",
   "metadata": {},
   "source": [
    "### Ejercicio - División de números complejos\n",
    "\n",
    "Efectue la siguiente división en Python:\n",
    "\n",
    "$$\n",
    "\\frac{3i}{4-3i} = -\\frac{9}{25}+\\frac{12}{25}i \\approx -0.360+0.480i\n",
    "$$"
   ]
  },
  {
   "cell_type": "code",
   "execution_count": 22,
   "id": "4755c4f5-d033-4248-86c4-c8d2fc787c0d",
   "metadata": {},
   "outputs": [
    {
     "name": "stdout",
     "output_type": "stream",
     "text": [
      "El resultado de la división es -0.360 + 0.480i\n"
     ]
    }
   ],
   "source": [
    "z0 = 3j # número complejo con componente imaginario\n",
    "z1 = complex(4,-3) # numero complejo con componentes real e imaginario\n",
    "z2 = z0/z1 # división de los dos números z0 y z1\n",
    "\n",
    "# despliegue el resultado de la división como sus componentes real e imaginario\n",
    "print(f\"El resultado de la división es {z2.real:.3f} + {z2.imag:.3f}i\") "
   ]
  },
  {
   "cell_type": "markdown",
   "id": "bf036c04",
   "metadata": {},
   "source": [
    "## Reglas para nombrar variables\n",
    "\n",
    "En este notebook utilizamos nombres sencillos para las variables. Sin embargo, a medida que el proceso a simular y el código se vuelven más complejos, es preciso utilizar nombres de variables que comuniquen su signficado. Cuales son las reglas para nombrar variables en Python? En general:\n",
    "\n",
    "- Las variables deben ser concisas y claras, de tal manera que es fácil establecer su significado.\n",
    "- No deben contener espacios en blanco.\n",
    "- El primer caracter debe ser una letra y el resto puede combinar letras, números, u otros caracteres.\n",
    "- No se recomienda usar puntos `.`, ni el símbolo `-`, ya que este en Python significa resta.\n",
    "- En Python se recomienda usar la convención: `pothole_case_naming`. Esta usa letras minúsculas separadas por el guión bajo `_`. Por ejemplo: `temperatura_nucleo`\n",
    "- El nombre de la variable no debe ser una palabra clave (keyword) de Python. Para saber cuales son estas palabras claves y evitarlas, use el siguiente código:"
   ]
  },
  {
   "cell_type": "code",
   "execution_count": 23,
   "id": "fa2b9ffb",
   "metadata": {},
   "outputs": [
    {
     "name": "stdout",
     "output_type": "stream",
     "text": [
      "['False', 'None', 'True', 'and', 'as', 'assert', 'async', 'await', 'break', 'class', 'continue', 'def', 'del', 'elif', 'else', 'except', 'finally', 'for', 'from', 'global', 'if', 'import', 'in', 'is', 'lambda', 'nonlocal', 'not', 'or', 'pass', 'raise', 'return', 'try', 'while', 'with', 'yield']\n"
     ]
    }
   ],
   "source": [
    "import keyword # cargue la libreria keyword\n",
    "print(keyword.kwlist) # despliegue las palabras claves (keywords) de Python"
   ]
  },
  {
   "cell_type": "markdown",
   "id": "6c5b5cf9-1fbb-453e-bd36-d4dead6a3611",
   "metadata": {},
   "source": [
    "Para obtener más información sobre como nombrar variables en Python, consulte el documento [Style Guide for Python Code](https://peps.python.org/pep-0008/).\n",
    "\n",
    "## Resumen\n",
    "\n",
    "### Tipos de Variables\n",
    "\n",
    "- `str`, string o colección de caracteres.\n",
    "- `int`, números enteros.\n",
    "- `float`, números decimales. \n",
    "- `complex`, variable compleja, con una componente real y otra imaginaria.\n",
    "- `bool`, variable booleana, dos posibles resultados, verdadero (True) o falso (False).\n",
    "\n",
    "### Operadores matemáticos\n",
    "- Sencillos y presentes en Python: `+`, `-`, `*`, `/`, `//`, `%`\n",
    "- Mas complicados y para los cuales es preciso cargar una librería como `math` o `numpy`: senos, cosenos, etc.\n",
    "- Operadores de comparación:`>`, `>=`, `<`, `<=`, `==`, `!=`\n",
    "\n",
    "### Reglas para nombrar variables\n",
    "- esta_es_la_forma_correcta_de_nombrar_variables_en_python\n",
    "- No utilize nombres similares a las palabras claves (keywords) de Python."
   ]
  }
 ],
 "metadata": {
  "kernelspec": {
   "display_name": "Python 3 (ipykernel)",
   "language": "python",
   "name": "python3"
  },
  "language_info": {
   "codemirror_mode": {
    "name": "ipython",
    "version": 3
   },
   "file_extension": ".py",
   "mimetype": "text/x-python",
   "name": "python",
   "nbconvert_exporter": "python",
   "pygments_lexer": "ipython3",
   "version": "3.9.16"
  }
 },
 "nbformat": 4,
 "nbformat_minor": 5
}
