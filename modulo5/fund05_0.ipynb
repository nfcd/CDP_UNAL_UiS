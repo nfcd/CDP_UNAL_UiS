{
 "cells": [
  {
   "attachments": {},
   "cell_type": "markdown",
   "id": "8f292497",
   "metadata": {},
   "source": [
    "# Fundamentos 5: Entrada de Datos \n",
    "# Lectura y Generación de Archivos\n",
    "\n",
    "Como hemos visto hasta ahora, los ejemplos que hemos usado usan información que es estática, es decir, no cambia. Si queremos cambiar algún parámetro, debemos cambiarlo en el código directamente. \n",
    "\n",
    "Para hacer los códigos más dinámicos, debemos permitir que Python pueda interactuar con el usuario, por ejemplo a través del teclado. Esto es útil para trabajos pequeños, pero cuando se quiere analizar grandes cantidades de datos, es importante poder cargarlos en Python. Estos datos pueden estar en archivos de texto plano o tablas de Excel,   pueden provenir de un equipo de campo o laboratorio o estar en formatos específicos de cada campo de las geociencias (datos *segy* en sísmica, *miniseed* en sísmología, etc.).\n",
    "\n",
    "Entrada y salida de datos (input-output): A través del teclado (keyboard input/output), leyendo y escribiendo archivos (file input/output), manejo de directorios y archivos en Python.\n",
    "\n",
    "\n",
    "En este módulo buscamos aprender a interacutar con Python y leer y escribir series de datos. "
   ]
  },
  {
   "cell_type": "markdown",
   "id": "7da3910c-c13b-4c12-9dd9-917a5fef3371",
   "metadata": {},
   "source": [
    "# Interacción con el teclado\n",
    "\n",
    "## Geoterma Continental\n",
    "En un ambiente continental, por ejemplo en un cratón, la geoterma se puede calcular siguiendo la siguiente ecuación diferencial: \n",
    "$$\n",
    "\\frac{\\partial^2 T}{\\partial z^2} = -\\frac{A}{k}\n",
    "$$\n",
    "donde $T$ es temperatura, $z$ es profundidad, $k$ es la conductividad térmica de las rocas, y $A$ representa la generación de calor por decaimiento radioactivo. Acá se asume que la geoterma está en equilibrio (no hay cambio temporal). \n",
    "\n",
    "La solución en el caso de una sola capa, y con un flujo de calor del manto a una profundidad $d=50km$ es:\n",
    "$$\n",
    "T(z) = -\\frac{Az^2}{2k} + \\frac{(Qz+Ad)}{k}z\n",
    "$$\n",
    "donde\n",
    "$$\n",
    "Q(z=d) = Q_d\n",
    "$$\n",
    "es el flujo de calor proveniente del manto.\n",
    "\n",
    "La siguiente función muestra la geoterma en función de la profundidad. La interación con el usuario le solicita los valores conductividad $k$ y producción de calor $A$ a través de la función `input`. \n",
    "\n",
    "La función `input` espera una entrada del usuario con el teclado que culmina cuando pulse el `Enter`. Tenga en cuenta la variable obtenida a través de `input` es una variable `str`, por lo que es necesario convertirla a una variable tipo `float` para que la entrada del usuario sea interpretada como un número.  \n"
   ]
  },
  {
   "cell_type": "code",
   "execution_count": 81,
   "id": "821d1897-173d-41f8-ade4-0ecb3b235cf0",
   "metadata": {},
   "outputs": [],
   "source": [
    "def geoterm(k,A,Qd=21e-3):\n",
    "    \"\"\"\n",
    "    Calculo de la geoterma en equilibrio a \n",
    "    partir de valores de conductividad térmica,\n",
    "    generación por radioactividad y gradiente de\n",
    "    temperatura en la superficie. \n",
    "    T en superficie es 25C.\n",
    "    \n",
    "    Entradas:\n",
    "    k  - conductividad térmica (W/m/C)\n",
    "    A  - Generación de calor (W/m^3)\n",
    "    Qd - opcional, flujo de calor del manto (W/m2)\n",
    "    \n",
    "    La función imprime una tabla con resultados. \n",
    "\n",
    "    Nota: Cuidado, profundidad maxima es 50 km,\n",
    "    pero se asume que no hay difusión hasta esa profundidad. \n",
    "    \"\"\"\n",
    "    import numpy as np\n",
    "\n",
    "    # prof del manto\n",
    "    d = 50e3\n",
    "    # T superficial\n",
    "    T0 = 25\n",
    "    # Profundidades\n",
    "    h = np.linspace(0,50,11)\n",
    "    z = h*1000\n",
    "    # Temperaturas\n",
    "    T = -A*z**2/(2*k) + (Qd+A*d)*z/k + T0\n",
    "\n",
    "    return h,T\n"
   ]
  },
  {
   "cell_type": "code",
   "execution_count": 82,
   "id": "c3cf7c2c-1f2e-4755-b028-6df4dbdd5e30",
   "metadata": {},
   "outputs": [
    {
     "name": "stdout",
     "output_type": "stream",
     "text": [
      "Cálculo de Gradiente Geotérmico\n"
     ]
    },
    {
     "name": "stdin",
     "output_type": "stream",
     "text": [
      "Conductividad k(W/m/C)        (1.5-3.5)  1.5\n",
      "Generación calor A(1e-6 W/m3) (0.5-4.0)  2.5\n"
     ]
    },
    {
     "name": "stdout",
     "output_type": "stream",
     "text": [
      "\n",
      " Prof.   Temp(C)\n",
      "     0        25\n",
      "     5       491\n",
      "    10       915\n",
      "    15      1298\n",
      "    20      1638\n",
      "    25      1937\n",
      "    30      2195\n",
      "    35      2411\n",
      "    40      2585\n",
      "    45      2718\n",
      "    50      2808\n"
     ]
    }
   ],
   "source": [
    "print('Cálculo de Gradiente Geotérmico')\n",
    "k = float(input('Conductividad k(W/m/C)        (1.5-3.5) '))\n",
    "A = float(input('Generación calor A(1e-6 W/m3) (0.5-4.0) '))\n",
    "z,T = geoterm(k,A/1e6)\n",
    "print('\\n Prof.   Temp(C)')\n",
    "for i in range(len(z)):\n",
    "    print(f'{z[i]:6.0f}    {T[i]:6.0f}')\n"
   ]
  },
  {
   "cell_type": "markdown",
   "id": "b01131be",
   "metadata": {},
   "source": [
    "## I/O de datos en Python\n",
    "\n",
    "Para el estudio de datos en geociencias, es necesario poder leer (y guardar) archivos en formato plano (*flat file*).  En general, esto implica una tabla con datos en filas y columnas, con valores numéricos. En algunos casos, el archivo tiene un encabezado o *header* que no tiene valores numéricos, sino texto explicando que significa cada columna. \n",
    "\n",
    "Para archivos en otros formatos, por ejemplo datos binarios como `segy`, `mseed` o cualquier otro formato propio de cada subcampo de las geociencias, es necesario utilizar herramientas adicionales o paquetes que sepan como leer dichos formatos. \n"
   ]
  },
  {
   "cell_type": "markdown",
   "id": "8388a330-f2c0-44ee-aff5-11a98cfe05c0",
   "metadata": {},
   "source": [
    "## Comparación de geotermas\n",
    "\n",
    "El archivo `geoterm.dat` tiene una serie de datos organizados así\n",
    "```\n",
    "k(W/m/C)    A(W/m3)    Qd (W/m2)  \n",
    "  2.5      1.25e-6      21e-3\n",
    "  1.5      1.25e-6      21e-3\n",
    "  2.5      3.00e-6      21e-3\n",
    "  2.5      1.25e-6      42e-3\n",
    "```\n",
    "de tal forma que cada línea representa diferentes valores de conductividad, generación de calor y flujo basal (a $d=50 km$ de profundidad). El objetivo es comparar los resultados de los 4 modelos propuestos. \n"
   ]
  },
  {
   "cell_type": "code",
   "execution_count": 107,
   "id": "e92a81d7-7d6e-4b20-b247-f593076c4f6a",
   "metadata": {},
   "outputs": [
    {
     "name": "stdout",
     "output_type": "stream",
     "text": [
      "Filas y columnas datos  (4, 3)\n"
     ]
    },
    {
     "data": {
      "image/png": "[encoded data removed]",
      "text/plain": [
       "<Figure size 640x480 with 1 Axes>"
      ]
     },
     "metadata": {},
     "output_type": "display_data"
    }
   ],
   "source": [
    "import numpy as np\n",
    "import matplotlib.pyplot as plt\n",
    "\n",
    "# nombre del archivo\n",
    "fname = 'geoterm.dat'\n",
    "\n",
    "# Cargue el archivo\n",
    "data = np.loadtxt(fname,skiprows=1)\n",
    "#Número de files\n",
    "nmod = np.shape(data)[0]\n",
    "print('Filas y columnas datos ',np.shape(data))\n",
    "\n",
    "# Cálculo de geoterma y gráfica\n",
    "for i in range(nmod):\n",
    "    k = data[i,0]\n",
    "    A = data[i,1]\n",
    "    Q = data[i,2]\n",
    "    z,T = geoterm(k,A,Q)\n",
    "    leg = f'k={k:3.1f} A={A*1e6:4.2f} Q={Q*1e3:3.0f}'\n",
    "    plt.plot(T,-z,label=leg)\n",
    "plt.legend()\n",
    "plt.xlabel('Temperatura (C)')\n",
    "plt.ylabel('Profundidad (km)')\n",
    "plt.show()\n",
    "\n"
   ]
  },
  {
   "cell_type": "markdown",
   "id": "0bdc794f-1044-408d-b6d9-2efb8ffeb1f4",
   "metadata": {},
   "source": [
    "**Por ahora, olvidemos la parte relacionada con la generación de la figura.**\n",
    "\n",
    "Para leer el archivo, simplemente se tiene que solicitar a `numpy` que lo lea\n",
    "```\n",
    "data = np.loadtxt(fname,skiprows=1)\n",
    "```\n",
    "donde intencionalmente saltamos la primera linea (`skiprows`) para evitar leer el nombre de cada columna. Tenga en cuenta que `numpy` espera arreglos de un mismo tipo y por lo tanto no espera combinar en una matriz números y caracteres. \n",
    "\n",
    "Una vez leído, la variable `data` es un arreglo de numpy con 4 filas y 3 columnas. Numpy automáticamente asigna el tamaño de `data` sin necesidad de que Ud sepa cuantos datos hay. \n",
    "\n",
    "**Precaución**. Numpy asume que el archivo está organizado en columnas, separadas por espacios y que todas las columnas estan ocupadas con valores numéricos, tienen la misma longitud y no tienen valores vacíos.  "
   ]
  },
  {
   "cell_type": "code",
   "execution_count": 108,
   "id": "d0ecb666-c57b-4729-9810-8a3f8fdcbd34",
   "metadata": {},
   "outputs": [
    {
     "name": "stdout",
     "output_type": "stream",
     "text": [
      "<class 'numpy.ndarray'>\n",
      "(4, 3)\n"
     ]
    }
   ],
   "source": [
    "print(type(data))\n",
    "print(np.shape(data))"
   ]
  },
  {
   "cell_type": "markdown",
   "id": "00d1e8e9-0634-42a5-9194-a750c882a6e7",
   "metadata": {},
   "source": [
    "El comando `np.loadtxt` tiene una gran variedad de opciones para leer los archivos (digite `help(np.loadtxt`) en Python para ver la documentación). El formato general de la función tiene muchas opciones, acá sólo muestro algunas de ellas\n",
    "```\n",
    "loadtxt(fname, dtype='float', comments='#', \n",
    "        delimiter=',', skiprows=1, usecols=[0,2])\n",
    "```\n",
    "donde se le ordena a `loadtxt` leer los datos como `float`, lineas con comentarios se marcan como `#` y no son leídas, las columnas están separadas por comas (típico de archivos `.csv`), se salta una línea que puede ser el encabezado y sólo se leen la primera y tercera columna. Note que todos los comandos (a excepción del nombre del archivo son opcionales) y Python asume algunos valores. Por ejemplo, las columnas por defecto están separadas por espacios, y los valores se asumen como `float`. \n"
   ]
  },
  {
   "cell_type": "markdown",
   "id": "5510e377-654f-4dfe-98c3-2aece2848a8b",
   "metadata": {},
   "source": [
    "## Archivos planos más complejos\n",
    "\n",
    "Existen archivos más complejos que requieren de mayor trabajo para leerlos. Un ejemplo es un archivo que contiene los nombres de estaciones sismológicas en el año 2014 para la red **1B**, una red de sensores muy densa ubicada cerca de Sweetwater, Texas. Los datos fueron descargados de la página de SAGE (Seismological Facility for the Advancement of Geoscience). \n",
    "\n",
    "El archivo tiene el siguiente formato\n",
    "```\n",
    "#Net | Sta | Lat | Lon | Elev | SiteName | StartTime | EndTime \n",
    "1B|5R536|32.748402|-100.535698|634.7|207536|2014-01-01T00:00:00.0000|2014-12-12T23:59:59.0000\n",
    "...\n",
    "```\n",
    "donde las diferentes columnas están separadas por el símbolo |. Intentar leerlo con `np.loadtxt` genera un error, porque la primera columna no es numérica, que es lo que espera la función, y la columna que contiene la fecha tiene números y símbolos. \n",
    "\n",
    "Aunque `Numpy` tiene una función que en principio puede leer este tipo de archivos (`np.genfromtxt()`), en este ejemplo vamos a leerlo con `Pandas`. Este paquete tiene la capacidad de leer archivos planos, mixtos (caracteres y números) e incluso archivos de Excel y Matlab. \n",
    "\n",
    "**Son mas de 2000 estaciones en un área de 10x10 km**\n"
   ]
  },
  {
   "cell_type": "code",
   "execution_count": 112,
   "id": "e3120e87-361e-4164-b813-d5750f4bb10f",
   "metadata": {},
   "outputs": [
    {
     "name": "stdout",
     "output_type": "stream",
     "text": [
      "Estructura de Pandas\n",
      "<class 'pandas.core.frame.DataFrame'>\n",
      "     #Network   Station    Latitude    Longitude    Elevation    SiteName    \n",
      "0           1B     5R536   32.748402  -100.535698        634.7      207536  \\\n",
      "1           1B     5R539   32.748901  -100.535797        637.0      207539   \n",
      "2           1B     5R542   32.749500  -100.536003        635.5      207542   \n",
      "3           1B     5R545   32.750099  -100.536201        632.1      207545   \n",
      "4           1B     5R548   32.750702  -100.536301        628.8      207548   \n",
      "...        ...       ...         ...          ...          ...         ...   \n",
      "2263        1B     79632   32.778702  -100.484703        607.7      261632   \n",
      "2264        1B     79635   32.779301  -100.484901        606.5      261635   \n",
      "2265        1B     79638   32.779900  -100.485001        605.7      261638   \n",
      "2266        1B     79641   32.780499  -100.485199        604.6      261641   \n",
      "2267        1B     79644   32.781101  -100.485397        603.9      261644   \n",
      "\n",
      "                    StartTime                   EndTime   \n",
      "0     2014-01-01T00:00:00.0000  2014-12-12T23:59:59.0000  \n",
      "1     2014-01-01T00:00:00.0000  2014-12-12T23:59:59.0000  \n",
      "2     2014-01-01T00:00:00.0000  2014-12-12T23:59:59.0000  \n",
      "3     2014-01-01T00:00:00.0000  2014-12-12T23:59:59.0000  \n",
      "4     2014-01-01T00:00:00.0000  2014-12-12T23:59:59.0000  \n",
      "...                        ...                       ...  \n",
      "2263  2014-01-01T00:00:00.0000  2014-12-12T23:59:59.0000  \n",
      "2264  2014-01-01T00:00:00.0000  2014-12-12T23:59:59.0000  \n",
      "2265  2014-01-01T00:00:00.0000  2014-12-12T23:59:59.0000  \n",
      "2266  2014-01-01T00:00:00.0000  2014-12-12T23:59:59.0000  \n",
      "2267  2014-01-01T00:00:00.0000  2014-12-12T23:59:59.0000  \n",
      "\n",
      "[2268 rows x 8 columns]\n",
      "Número total de estaciones \n"
     ]
    },
    {
     "data": {
      "text/plain": [
       "[<matplotlib.lines.Line2D at 0x1717d4610>]"
      ]
     },
     "execution_count": 112,
     "metadata": {},
     "output_type": "execute_result"
    },
    {
     "data": {
      "image/png": "[encoded data removed]",
      "text/plain": [
       "<Figure size 640x480 with 1 Axes>"
      ]
     },
     "metadata": {},
     "output_type": "display_data"
    }
   ],
   "source": [
    "import numpy as np\n",
    "import matplotlib.pyplot as plt\n",
    "import pandas as pd\n",
    "\n",
    "fname = 'station.dat'\n",
    "data = pd.read_csv(fname, sep='|')\n",
    "print('Estructura de Pandas')\n",
    "print(type(data))\n",
    "print(data)\n",
    "\n",
    "# Extraer columnas a numpy\n",
    "sta = data.iloc[:,1].to_numpy()\n",
    "lat = data.iloc[:,2].to_numpy()\n",
    "lon = data.iloc[:,3].to_numpy()\n",
    "\n",
    "print('Número total de estaciones ', )\n",
    "plt.plot(lon,lat,'^')\n"
   ]
  },
  {
   "cell_type": "markdown",
   "id": "f8de8415-b44b-41b5-a963-e5ba611aa9b0",
   "metadata": {},
   "source": [
    "El paquete Pandas es importado con:\n",
    "```\n",
    "import pandas as pd\n",
    "```\n",
    "y carga los datos con el comando\n",
    "```\n",
    "data = pd.read_csv(fname, sep='|')\n",
    "```\n",
    "donde se le indica que el separador entre columnas no es una coma sino el símbolo `|`. Pandas tiene su propio tipo de estructura (llamado  `DataFrame`) que son una especie de arreglos de matrices, pero que pueden tener diferentes tipos de elementos (str, int, float, etc). Note que el `Dataframe` organiza los datos en columnas y filas numeradas.\n",
    "\n",
    "Para convertir alguna columna del dataframe `data`  a un arreglo de Numpy: \n",
    "```\n",
    "sta = data.iloc[:,1].to_numpy()\n",
    "lat = data.iloc[:,2].to_numpy()\n",
    "```\n",
    "\n"
   ]
  },
  {
   "cell_type": "markdown",
   "id": "4f1a4ad1-5ecf-4d8a-824f-3b176ab33fb4",
   "metadata": {},
   "source": [
    "## Guardar archivos\n",
    "En muchos casos, es importante poder leer archivos, pero también es importante poder guardar los resultados de un análisis, de procesamiento o resultados de simulaciones y cálculos, sin la necesidad de repetir el procesamiento cada vez que se quiera revisar los resultados. \n",
    "\n",
    "Aunque las gráficas son una forma de presentar resultados, no permiten mirar los datos brutos que siempre es bueno tenerlos para poder replicar trabajos de investigación.\n",
    "\n",
    "Repetimos el trabajo de la comparación de geotermas continentales que realizamos arriba, pero ahora guardamos los resultados de todos los modelos en un archivo, cuyas columnas continene la profundidad, y las temperaturas de los 4 modelos estudiados. \n",
    "\n",
    "Tal como podría esperarse, el comando de Numpy es `np.savetxt`. Los datos que deseamos guardar deben estar organizados en una matriz (un arreglo). El formato de cada columna se puede especificar. \n",
    "\n",
    "\n"
   ]
  },
  {
   "cell_type": "code",
   "execution_count": 121,
   "id": "efa62948-d2df-4ae5-b255-d01aa784733f",
   "metadata": {},
   "outputs": [],
   "source": [
    "import numpy as np\n",
    "import matplotlib.pyplot as plt\n",
    "\n",
    "# nombre del archivo\n",
    "fname = 'geoterm.dat'\n",
    "# nombre archivo de salida\n",
    "fout  = 'Tz.dat'\n",
    "\n",
    "# Cargue el archivo\n",
    "data = np.loadtxt(fname,skiprows=1)\n",
    "nmod = np.shape(data)[0]\n",
    "\n",
    "# Cálculo de geoterma, creación matriz\n",
    "for i in range(nmod):\n",
    "    k = data[i,0]\n",
    "    A = data[i,1]\n",
    "    Q = data[i,2]\n",
    "    z,T = geoterm(k,A,Q)\n",
    "    if (i==0):\n",
    "        ndep = len(z)\n",
    "        Tmatrix = np.zeros((ndep,nmod+1))\n",
    "        Tmatrix[:,0] = z\n",
    "    Tmatrix[:,i+1] = T\n",
    "\n",
    "# Guardar datos, con formato específico\n",
    "np.savetxt(fout,Tmatrix,fmt='%4.0f %8.1f %8.1f %8.1f %8.1f')\n",
    "\n"
   ]
  },
  {
   "cell_type": "markdown",
   "id": "5c14f383-1ab4-4404-925a-2c8cd8c5d171",
   "metadata": {},
   "source": [
    "El archivo de salida tiene el siguiente formato\n",
    "```\n",
    "   0     25.0     25.0     25.0     25.0\n",
    "   5    209.5    281.2    304.5    251.5\n",
    "  10    379.0    516.7    559.0    463.0\n",
    "...\n",
    "```\n",
    "\n"
   ]
  },
  {
   "cell_type": "markdown",
   "id": "a5742a09-0c10-48be-92ab-7d7e79dfac29",
   "metadata": {},
   "source": [
    "## I/O veloz en Python\n",
    "En computación, los cálculos y operaciones matemáticas están optimizadas dentro de los programas, por lo que en muchos casos el tiempo computacional se consume en procesos I/O (input/output), leer y guardar archivos. Para realizar los procesos I/O con mayor rapidez, en muchos casos es mejor guardar los archivos en formato binario, en vez de guardarlos como archivos de texto plano. \n",
    "\n",
    "Suponga que tenemos una matriz grande (`A`) que queremos guardar. Existen (por lo menos) tres opciones:\n",
    "- guardar el archivo en formato de texto plano (`np.savetxt(A)`)\n",
    "- guardar en archivo binario de Python (`A.tofile`)\n",
    "- guardar en archivo binario de Numpy (`np.save(A)`)\n",
    "Abajo mostramos la forma de guardar el archivo y la forma de volver a leerlo, cronometrando el tiempo que toma al computador. \n",
    "\n"
   ]
  },
  {
   "cell_type": "markdown",
   "id": "149accaf-c121-45ef-8b35-18b20c2cf790",
   "metadata": {},
   "source": []
  },
  {
   "cell_type": "code",
   "execution_count": 124,
   "id": "4987a011-5432-4742-a24d-1324de81c206",
   "metadata": {},
   "outputs": [
    {
     "name": "stdout",
     "output_type": "stream",
     "text": [
      "Tiempo requerido para guardar\n",
      "Binario:  0.00554 segundos.\n",
      "Numpy:    0.00248 segundos.\n",
      "Texto:    0.54316 segundos.\n",
      "\n",
      "Tiempo requerido para cargar\n",
      "Binario:  0.00130 segundos.\n",
      "Numpy:    0.00235 segundos.\n",
      "Texto:    0.22971 segundos.\n"
     ]
    }
   ],
   "source": [
    "import numpy as np\n",
    "import time\n",
    "\n",
    "# tamaño de matriz\n",
    "m= 100000\n",
    "n= 10\n",
    "A = np.ones((m,n))*1.1\n",
    "\n",
    "# Guardar datos\n",
    "f1 = 'testio.bin'\n",
    "f2 = \"testio.npy\"\n",
    "f3 = \"testio.dat\"\n",
    "print('Tiempo requerido para guardar')\n",
    "\n",
    "# formato binario\n",
    "start = time.time()\n",
    "a.tofile(f1)\n",
    "print ('Binario: %8.5f segundos.' %(time.time()-start))\n",
    "\n",
    "# formato Numpy nativo (binario)\n",
    "start = time.time()\n",
    "np.save(f2, a)\n",
    "print ('Numpy:   %8.5f segundos.' %(time.time()-start))\n",
    "\n",
    "# formato plano de texto\n",
    "start = time.time()\n",
    "\n",
    "np.savetxt(f3, a)\n",
    "print ('Texto:   %8.5f segundos.' %(time.time()-start))\n",
    "\n",
    "# Cargar datos\n",
    "print('')\n",
    "print('Tiempo requerido para cargar')\n",
    "\n",
    "# formato binario\n",
    "start = time.time()\n",
    "b1 = np.fromfile(f1,dtype='float')\n",
    "b1 = b1.reshape(m,n)\n",
    "print ('Binario: %8.5f segundos.' %(time.time()-start))\n",
    "\n",
    "# formato Numpy nativo (binario)\n",
    "start = time.time()\n",
    "b2 = np.load(f2)\n",
    "print ('Numpy:   %8.5f segundos.' %(time.time()-start))\n",
    "\n",
    "# formato plano de texto\n",
    "start = time.time()\n",
    "b3 = np.loadtxt(f3)\n",
    "print ('Texto:   %8.5f segundos.' %(time.time()-start))\n"
   ]
  },
  {
   "cell_type": "markdown",
   "id": "9a927734-ff53-4867-a4ee-a0c15f9e0601",
   "metadata": {},
   "source": [
    "Note como usando archivos de texto, la lectura puede ser muy demorada. El factor de velocidad es de 55 veces menor comparado con los formatos binarios. El tamaño de los archivos resultantes es además muy distinto:\n",
    "```\n",
    "7.6M  testio.bin\n",
    "7.6M  testio.npy\n",
    "24M   testio.dat\n",
    "```\n",
    "Note que el archivo en el formato nativo de Python `.npy` ocupa el mismo espacio que un binario normal, pero el archivo binario no `sabe` que el archivo es una matriz, sino que guarda la matriz plana, sin tamaños predefinidos, y toca reorganizarla. \n"
   ]
  },
  {
   "cell_type": "markdown",
   "id": "964f12c4-a884-4127-8412-0533d475afde",
   "metadata": {},
   "source": [
    "## Mejores formatos binarios\n",
    "En algunos casos, el usuario puede querer guardar varios arreglos en un sólo archivo, manteniendo la información de las dimensiones de los arreglos. Esto se puede hacer en archivos `npz`, con el comando:\n",
    "```\n",
    "np.savez(outfile, x, y)\n",
    "```\n",
    "donde se guardan los arreglos `x` y `y`, los cuales después se pueden cargar con\n",
    "```\n",
    "npzfile = np.load(outfile)\n",
    "```\n",
    "Note que Numpy lee el archivo dependiendo si es `npy` o `npz`. El siguiente programa guarda un **único** archivo binario en formato `.npz`, y lo vuelve a leer, sin perder información. El archivo guarda variables, arreglos, etc., y les puede poner un *nombre* a cada uno, para así hacer más fácil su lectura. "
   ]
  },
  {
   "cell_type": "code",
   "execution_count": 128,
   "id": "40327b59-095b-422b-8f26-e660143de31c",
   "metadata": {},
   "outputs": [
    {
     "name": "stdout",
     "output_type": "stream",
     "text": [
      "Variables guardadas\n",
      "Shape de A, x, y, size(z)\n",
      "(100000, 10) (100000,) (10,) 1\n",
      "\n",
      "Las variables dentro del archivo\n",
      "['A', 'x', 'y', 'm', 'n', 'z']\n",
      "Variables cargadas\n",
      "Shape de A, x, y, size(z)\n",
      "(100000, 10) (100000,) (10,) 1\n",
      "\n"
     ]
    }
   ],
   "source": [
    "import numpy as np\n",
    "\n",
    "m= 100000\n",
    "n= 10\n",
    "A = np.ones((m,n))*1.1\n",
    "y = np.random.rand(n)\n",
    "x = np.random.rand(m)\n",
    "z = 1.5\n",
    "\n",
    "print('Variables guardadas')\n",
    "print('Shape de A, x, y, size(z)')\n",
    "print(np.shape(A),np.shape(x),np.shape(y),np.size(z))\n",
    "print('')\n",
    "\n",
    "# Guardar en formato npz numpy\n",
    "f2 = \"testio2.npz\"\n",
    "np.savez(f2, A=A,x=x,y=y,m=m,n=n,z=z)\n",
    "\n",
    "# Cargar archivos, confirmar tamaños\n",
    "npfile = np.load(f2)\n",
    "\n",
    "print('Las variables dentro del archivo')\n",
    "print(npfile.files)\n",
    "\n",
    "# Extraiga las variables\n",
    "n  = npfile.f.n\n",
    "m  = npfile.f.m\n",
    "x0 = npfile.f.x\n",
    "y0 = npfile.f.y\n",
    "A0 = npfile.f.A\n",
    "z0 = npfile.f.z\n",
    "\n",
    "print('Variables cargadas')\n",
    "print('Shape de A, x, y, size(z)')\n",
    "print(np.shape(A0),np.shape(x0),np.shape(y0),np.size(z0))\n",
    "print('')\n",
    "\n",
    "\n"
   ]
  },
  {
   "cell_type": "markdown",
   "id": "4953d9b6-dea6-44a9-a2e7-dca76695284b",
   "metadata": {},
   "source": [
    "Es importante notar que se pueden guardar un número indefinido de arreglos o variables, en un formato eficiente (rápido) y con bajo consumo de memoria. El archivo ocupa apenas 8.4Mb. La gran ventaja es que el programa puede guardar varios arreglos y al cargarlos, mantiene la información de cada arreglo (su tamaño y shape) y si se quiere el nombre de las variables. \n",
    "\n",
    "Al guardar el archivo, es opcional si se le quiere poner el nombre a cada variable. Si por ejemplo usamos\n",
    "```\n",
    "np.savez(fname, A,x,y,m,n,z)\n",
    "```\n",
    "al cargarlo cada variable recibe un nombre\n",
    "```\n",
    "['arr_1', 'arr_0', 'arr_3', 'arr_2', 'arr_4']\n",
    "```\n",
    "de acuerdo al orden en que fueron guardados (`A, x, y, m, n, z`). En este caso, la dificultad es que uno debe saber el orden en el que fue guardada cada variable.\n"
   ]
  },
  {
   "cell_type": "markdown",
   "id": "7772c078-21b9-4186-aa8f-aa6cb4cfd7d5",
   "metadata": {},
   "source": [
    "## Archivos de texto vs Binarios\n",
    "\n",
    "Como se ve en este módulo, hay un *tradeoff* (compensación o sacrificio) entre trabajar con archivos de texto o binarios. Los archivos de texto plano son más fáciles de trabajar, se pueden cargar en Excel o matlab con facilidad e incluso se puede abrir el archivo y mirar los datos. Es el método sugerido cuando el tamaño del archivo o velocidad de los cálculos no son un problema. \n",
    "\n",
    "Sin embargo, para bases de datos muy grandes y procesamiento de datos pesados, es mejor usar formatos binarios por que permite transferencia I/O rápido y ocupando menos memoria en el computador (un problema cada vez menos importante claro está). De hecho Excel muchas veces se vara cuando tiene que procesar bases de datos *no tan* grandes. Adicionalmente, en el formato binario, no se tiene que decidir de antemano el formato (y la precisión que se quiere guardar los números; ¿cuántos decimales quiero guardar?). Los archivos binarios son menos portátiles y se requiere conocer en muchos casos el formato del archivo para poder leerlo. \n"
   ]
  },
  {
   "cell_type": "code",
   "execution_count": null,
   "id": "3311596c-118e-491d-8aff-cb7b04bb24d3",
   "metadata": {},
   "outputs": [],
   "source": []
  }
 ],
 "metadata": {
  "kernelspec": {
   "display_name": "Python 3 (ipykernel)",
   "language": "python",
   "name": "python3"
  },
  "language_info": {
   "codemirror_mode": {
    "name": "ipython",
    "version": 3
   },
   "file_extension": ".py",
   "mimetype": "text/x-python",
   "name": "python",
   "nbconvert_exporter": "python",
   "pygments_lexer": "ipython3",
   "version": "3.9.16"
  }
 },
 "nbformat": 4,
 "nbformat_minor": 5
}
